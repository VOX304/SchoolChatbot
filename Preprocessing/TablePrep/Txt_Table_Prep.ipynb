{
  "nbformat": 4,
  "nbformat_minor": 0,
  "metadata": {
    "colab": {
      "provenance": [],
      "gpuType": "T4",
      "authorship_tag": "ABX9TyPGcD434dOn3QkBZsnM0OZV",
      "include_colab_link": true
    },
    "kernelspec": {
      "name": "python3",
      "display_name": "Python 3"
    },
    "language_info": {
      "name": "python"
    },
    "accelerator": "GPU"
  },
  "cells": [
    {
      "cell_type": "markdown",
      "metadata": {
        "id": "view-in-github",
        "colab_type": "text"
      },
      "source": [
        "<a href=\"https://colab.research.google.com/github/VOX304/BasicChatbot/blob/main/Preprocessing/TablePrep/Txt_Table_Prep.ipynb\" target=\"_parent\"><img src=\"https://colab.research.google.com/assets/colab-badge.svg\" alt=\"Open In Colab\"/></a>"
      ]
    },
    {
      "cell_type": "code",
      "execution_count": null,
      "metadata": {
        "colab": {
          "base_uri": "https://localhost:8080/"
        },
        "id": "qr1GeD3jqFL-",
        "outputId": "b165b8bb-64f9-4219-8335-1658230c9793"
      },
      "outputs": [
        {
          "output_type": "stream",
          "name": "stdout",
          "text": [
            "Requirement already satisfied: pdfplumber in /usr/local/lib/python3.11/dist-packages (0.11.6)\n",
            "Requirement already satisfied: python-docx in /usr/local/lib/python3.11/dist-packages (1.1.2)\n",
            "Requirement already satisfied: opencv-python in /usr/local/lib/python3.11/dist-packages (4.11.0.86)\n",
            "Requirement already satisfied: numpy in /usr/local/lib/python3.11/dist-packages (2.0.2)\n",
            "Requirement already satisfied: boundbox in /usr/local/lib/python3.11/dist-packages (0.0.5)\n",
            "Requirement already satisfied: markdown-table in /usr/local/lib/python3.11/dist-packages (2020.12.3)\n",
            "Requirement already satisfied: pdfminer.six==20250327 in /usr/local/lib/python3.11/dist-packages (from pdfplumber) (20250327)\n",
            "Requirement already satisfied: Pillow>=9.1 in /usr/local/lib/python3.11/dist-packages (from pdfplumber) (11.1.0)\n",
            "Requirement already satisfied: pypdfium2>=4.18.0 in /usr/local/lib/python3.11/dist-packages (from pdfplumber) (4.30.1)\n",
            "Requirement already satisfied: charset-normalizer>=2.0.0 in /usr/local/lib/python3.11/dist-packages (from pdfminer.six==20250327->pdfplumber) (3.4.1)\n",
            "Requirement already satisfied: cryptography>=36.0.0 in /usr/local/lib/python3.11/dist-packages (from pdfminer.six==20250327->pdfplumber) (43.0.3)\n",
            "Requirement already satisfied: lxml>=3.1.0 in /usr/local/lib/python3.11/dist-packages (from python-docx) (5.3.1)\n",
            "Requirement already satisfied: typing-extensions>=4.9.0 in /usr/local/lib/python3.11/dist-packages (from python-docx) (4.13.0)\n",
            "Requirement already satisfied: cffi>=1.12 in /usr/local/lib/python3.11/dist-packages (from cryptography>=36.0.0->pdfminer.six==20250327->pdfplumber) (1.17.1)\n",
            "Requirement already satisfied: pycparser in /usr/local/lib/python3.11/dist-packages (from cffi>=1.12->cryptography>=36.0.0->pdfminer.six==20250327->pdfplumber) (2.22)\n"
          ]
        }
      ],
      "source": [
        "!pip install pdfplumber python-docx opencv-python numpy boundbox markdown-table\n"
      ]
    },
    {
      "cell_type": "code",
      "source": [
        "!pip install markdown-table\n"
      ],
      "metadata": {
        "colab": {
          "base_uri": "https://localhost:8080/"
        },
        "id": "dCPmQCBKs1f_",
        "outputId": "9c6d12f5-90cb-4b30-cdd4-32efc205f321"
      },
      "execution_count": null,
      "outputs": [
        {
          "output_type": "stream",
          "name": "stdout",
          "text": [
            "Requirement already satisfied: markdown-table in /usr/local/lib/python3.11/dist-packages (2020.12.3)\n"
          ]
        }
      ]
    },
    {
      "cell_type": "code",
      "source": [
        "import pdfplumber\n",
        "\n",
        "def is_text_valid(text, threshold=0.5):\n",
        "    \"\"\"Check if extracted text is valid or gibberish based on character ratios.\"\"\"\n",
        "    non_alpha_chars = sum(1 for char in text if not char.isalnum() and char not in \" \\n\")\n",
        "    alpha_chars = sum(1 for char in text if char.isalnum())\n",
        "\n",
        "    if alpha_chars == 0:\n",
        "        return False  # All non-alphanumeric, probably junk\n",
        "\n",
        "    non_alpha_ratio = non_alpha_chars / (alpha_chars + non_alpha_chars)\n",
        "    return non_alpha_ratio < threshold  # If too many non-alphanumeric chars, it's bad\n",
        "\n",
        "def extract_table_text_based(file_path):\n",
        "    \"\"\"Extract table data from PDFs or DOCX files, fallback to OCR if text is bad.\"\"\"\n",
        "    tables = []\n",
        "\n",
        "    if file_path.endswith('.docx'):\n",
        "        doc = docx.Document(file_path)\n",
        "        for table in doc.tables:\n",
        "            rows = [[cell.text for cell in row.cells] for row in table.rows]\n",
        "            tables.append(rows)\n",
        "\n",
        "    return tables"
      ],
      "metadata": {
        "id": "z35SPO7-cmJR"
      },
      "execution_count": null,
      "outputs": []
    },
    {
      "cell_type": "code",
      "source": [
        "import pdfplumber\n",
        "import docx\n",
        "import cv2\n",
        "import json\n",
        "import numpy as np\n",
        "\n",
        "def detect_table_presence(file_path):\n",
        "    \"\"\"Determine if a document contains tables and whether they are text-based or image-based.\"\"\"\n",
        "    if file_path.endswith('.docx'):\n",
        "        doc = docx.Document(file_path)\n",
        "        for table in doc.tables:\n",
        "            return 'text'\n",
        "    return 'image'\n",
        "\n",
        "\n",
        "def extract_table_text_based(file_path):\n",
        "    \"\"\"Extract table data from text-based PDFs or DOCX files.\"\"\"\n",
        "    tables = []\n",
        "    if file_path.endswith('.docx'):\n",
        "        doc = docx.Document(file_path)\n",
        "        for table in doc.tables:\n",
        "            rows = [[cell.text for cell in row.cells] for row in table.rows]\n",
        "            tables.append(rows)\n",
        "    return tables\n",
        "\n",
        "\n",
        "\n",
        "def process_folder(folder_path, output_json=\"extracted_tables.json\"):\n",
        "    \"\"\"Process all DOCX files in a folder and save extracted tables in JSON format.\"\"\"\n",
        "    extracted_data = []\n",
        "\n",
        "    for file_name in os.listdir(folder_path):\n",
        "        file_path = os.path.join(folder_path, file_name)\n",
        "\n",
        "        if file_name.endswith(\".docx\") and detect_table_presence(file_path):\n",
        "            tables = extract_table_text_based(file_path)\n",
        "            extracted_data.append({\n",
        "                \"document_name\": file_name,\n",
        "                \"datatype\": \"table\",\n",
        "                \"extracted_content\": tables\n",
        "            })\n",
        "\n",
        "    with open(output_json, \"w\", encoding=\"utf-8\") as json_file:\n",
        "        json.dump(extracted_data, json_file, ensure_ascii=False, indent=4)\n",
        "\n",
        "    print(f\"Extracted tables saved to {output_json}\")\n",
        "\n"
      ],
      "metadata": {
        "id": "PoXKluSkqVPu"
      },
      "execution_count": null,
      "outputs": []
    },
    {
      "cell_type": "code",
      "source": [
        "import os\n",
        "# Example usage:\n",
        "folder_path = \"/content/sample_data/TCU/\"  # Update with your folder path\n",
        "process_folder(folder_path)\n"
      ],
      "metadata": {
        "id": "yd_INGmBzKCi",
        "colab": {
          "base_uri": "https://localhost:8080/"
        },
        "outputId": "96e07d70-1b6e-49f7-d4e7-d1aad5d00542"
      },
      "execution_count": null,
      "outputs": [
        {
          "output_type": "stream",
          "name": "stdout",
          "text": [
            "Extracted tables saved to extracted_tables.json\n"
          ]
        }
      ]
    }
  ]
}