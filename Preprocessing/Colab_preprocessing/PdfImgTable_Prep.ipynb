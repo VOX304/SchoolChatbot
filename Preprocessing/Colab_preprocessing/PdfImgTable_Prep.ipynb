{
  "nbformat": 4,
  "nbformat_minor": 0,
  "metadata": {
    "colab": {
      "provenance": [],
      "authorship_tag": "ABX9TyPrZBvvw7YFneZc/wFTkBUc",
      "include_colab_link": true
    },
    "kernelspec": {
      "name": "python3",
      "display_name": "Python 3"
    },
    "language_info": {
      "name": "python"
    }
  },
  "cells": [
    {
      "cell_type": "markdown",
      "metadata": {
        "id": "view-in-github",
        "colab_type": "text"
      },
      "source": [
        "<a href=\"https://colab.research.google.com/github/VOX304/SchoolChatbot/blob/main/Preprocessing/Colab_preprocessing/PdfImgTable_Prep.ipynb\" target=\"_parent\"><img src=\"https://colab.research.google.com/assets/colab-badge.svg\" alt=\"Open In Colab\"/></a>"
      ]
    },
    {
      "cell_type": "markdown",
      "source": [
        "# Python packages"
      ],
      "metadata": {
        "id": "WGiMfhUZStyW"
      }
    },
    {
      "cell_type": "code",
      "execution_count": 1,
      "metadata": {
        "colab": {
          "base_uri": "https://localhost:8080/"
        },
        "id": "rZUN0dqhSizq",
        "outputId": "d18e41d6-c1a6-4d9a-fd63-58c6cfaa7e0d"
      },
      "outputs": [
        {
          "output_type": "stream",
          "name": "stdout",
          "text": [
            "Requirement already satisfied: PyMuPDF in /usr/local/lib/python3.11/dist-packages (1.25.4)\n",
            "Requirement already satisfied: pandas in /usr/local/lib/python3.11/dist-packages (2.2.2)\n",
            "Requirement already satisfied: img2table in /usr/local/lib/python3.11/dist-packages (1.4.1)\n",
            "Requirement already satisfied: numpy>=1.23.2 in /usr/local/lib/python3.11/dist-packages (from pandas) (2.0.2)\n",
            "Requirement already satisfied: python-dateutil>=2.8.2 in /usr/local/lib/python3.11/dist-packages (from pandas) (2.8.2)\n",
            "Requirement already satisfied: pytz>=2020.1 in /usr/local/lib/python3.11/dist-packages (from pandas) (2025.1)\n",
            "Requirement already satisfied: tzdata>=2022.7 in /usr/local/lib/python3.11/dist-packages (from pandas) (2025.1)\n",
            "Requirement already satisfied: polars>=1.2 in /usr/local/lib/python3.11/dist-packages (from polars[pandas]>=1.2->img2table) (1.21.0)\n",
            "Requirement already satisfied: pyarrow>=7 in /usr/local/lib/python3.11/dist-packages (from img2table) (18.1.0)\n",
            "Requirement already satisfied: pypdfium2==4.30.0 in /usr/local/lib/python3.11/dist-packages (from img2table) (4.30.0)\n",
            "Requirement already satisfied: opencv-contrib-python>=4 in /usr/local/lib/python3.11/dist-packages (from img2table) (4.11.0.86)\n",
            "Requirement already satisfied: numba in /usr/local/lib/python3.11/dist-packages (from img2table) (0.60.0)\n",
            "Requirement already satisfied: beautifulsoup4 in /usr/local/lib/python3.11/dist-packages (from img2table) (4.13.3)\n",
            "Requirement already satisfied: xlsxwriter>=3.0.6 in /usr/local/lib/python3.11/dist-packages (from img2table) (3.2.2)\n",
            "Requirement already satisfied: six>=1.5 in /usr/local/lib/python3.11/dist-packages (from python-dateutil>=2.8.2->pandas) (1.17.0)\n",
            "Requirement already satisfied: soupsieve>1.2 in /usr/local/lib/python3.11/dist-packages (from beautifulsoup4->img2table) (2.6)\n",
            "Requirement already satisfied: typing-extensions>=4.0.0 in /usr/local/lib/python3.11/dist-packages (from beautifulsoup4->img2table) (4.12.2)\n",
            "Requirement already satisfied: llvmlite<0.44,>=0.43.0dev0 in /usr/local/lib/python3.11/dist-packages (from numba->img2table) (0.43.0)\n",
            "Requirement already satisfied: paddlepaddle in /usr/local/lib/python3.11/dist-packages (2.6.2)\n",
            "Requirement already satisfied: paddlepaddle-gpu in /usr/local/lib/python3.11/dist-packages (2.6.2)\n",
            "Requirement already satisfied: httpx in /usr/local/lib/python3.11/dist-packages (from paddlepaddle) (0.28.1)\n",
            "Requirement already satisfied: numpy>=1.13 in /usr/local/lib/python3.11/dist-packages (from paddlepaddle) (2.0.2)\n",
            "Requirement already satisfied: Pillow in /usr/local/lib/python3.11/dist-packages (from paddlepaddle) (11.1.0)\n",
            "Requirement already satisfied: decorator in /usr/local/lib/python3.11/dist-packages (from paddlepaddle) (4.4.2)\n",
            "Requirement already satisfied: astor in /usr/local/lib/python3.11/dist-packages (from paddlepaddle) (0.8.1)\n",
            "Requirement already satisfied: opt-einsum==3.3.0 in /usr/local/lib/python3.11/dist-packages (from paddlepaddle) (3.3.0)\n",
            "Requirement already satisfied: protobuf>=3.20.2 in /usr/local/lib/python3.11/dist-packages (from paddlepaddle) (5.29.4)\n",
            "Requirement already satisfied: anyio in /usr/local/lib/python3.11/dist-packages (from httpx->paddlepaddle) (4.9.0)\n",
            "Requirement already satisfied: certifi in /usr/local/lib/python3.11/dist-packages (from httpx->paddlepaddle) (2025.1.31)\n",
            "Requirement already satisfied: httpcore==1.* in /usr/local/lib/python3.11/dist-packages (from httpx->paddlepaddle) (1.0.7)\n",
            "Requirement already satisfied: idna in /usr/local/lib/python3.11/dist-packages (from httpx->paddlepaddle) (3.10)\n",
            "Requirement already satisfied: h11<0.15,>=0.13 in /usr/local/lib/python3.11/dist-packages (from httpcore==1.*->httpx->paddlepaddle) (0.14.0)\n",
            "Requirement already satisfied: sniffio>=1.1 in /usr/local/lib/python3.11/dist-packages (from anyio->httpx->paddlepaddle) (1.3.1)\n",
            "Requirement already satisfied: typing_extensions>=4.5 in /usr/local/lib/python3.11/dist-packages (from anyio->httpx->paddlepaddle) (4.12.2)\n"
          ]
        }
      ],
      "source": [
        "!pip install -q ultralytics pdf2image torch torchvision\n",
        "!pip install PyMuPDF pandas img2table\n",
        "!pip install paddlepaddle paddlepaddle-gpu"
      ]
    },
    {
      "cell_type": "code",
      "source": [
        "!pip install paddleocr"
      ],
      "metadata": {
        "colab": {
          "base_uri": "https://localhost:8080/"
        },
        "id": "Aoik-6ueT_Hw",
        "outputId": "1a96b188-6d88-46c1-c243-e87c75839803"
      },
      "execution_count": 2,
      "outputs": [
        {
          "output_type": "stream",
          "name": "stdout",
          "text": [
            "Requirement already satisfied: paddleocr in /usr/local/lib/python3.11/dist-packages (2.10.0)\n",
            "Requirement already satisfied: shapely in /usr/local/lib/python3.11/dist-packages (from paddleocr) (2.0.7)\n",
            "Requirement already satisfied: scikit-image in /usr/local/lib/python3.11/dist-packages (from paddleocr) (0.25.2)\n",
            "Requirement already satisfied: pyclipper in /usr/local/lib/python3.11/dist-packages (from paddleocr) (1.3.0.post6)\n",
            "Requirement already satisfied: lmdb in /usr/local/lib/python3.11/dist-packages (from paddleocr) (1.6.2)\n",
            "Requirement already satisfied: tqdm in /usr/local/lib/python3.11/dist-packages (from paddleocr) (4.67.1)\n",
            "Requirement already satisfied: numpy in /usr/local/lib/python3.11/dist-packages (from paddleocr) (2.0.2)\n",
            "Requirement already satisfied: rapidfuzz in /usr/local/lib/python3.11/dist-packages (from paddleocr) (3.12.2)\n",
            "Requirement already satisfied: opencv-python in /usr/local/lib/python3.11/dist-packages (from paddleocr) (4.11.0.86)\n",
            "Requirement already satisfied: opencv-contrib-python in /usr/local/lib/python3.11/dist-packages (from paddleocr) (4.11.0.86)\n",
            "Requirement already satisfied: cython in /usr/local/lib/python3.11/dist-packages (from paddleocr) (3.0.12)\n",
            "Requirement already satisfied: Pillow in /usr/local/lib/python3.11/dist-packages (from paddleocr) (11.1.0)\n",
            "Requirement already satisfied: pyyaml in /usr/local/lib/python3.11/dist-packages (from paddleocr) (6.0.2)\n",
            "Requirement already satisfied: python-docx in /usr/local/lib/python3.11/dist-packages (from paddleocr) (1.1.2)\n",
            "Requirement already satisfied: beautifulsoup4 in /usr/local/lib/python3.11/dist-packages (from paddleocr) (4.13.3)\n",
            "Requirement already satisfied: fonttools>=4.24.0 in /usr/local/lib/python3.11/dist-packages (from paddleocr) (4.56.0)\n",
            "Requirement already satisfied: fire>=0.3.0 in /usr/local/lib/python3.11/dist-packages (from paddleocr) (0.7.0)\n",
            "Requirement already satisfied: requests in /usr/local/lib/python3.11/dist-packages (from paddleocr) (2.32.3)\n",
            "Requirement already satisfied: albumentations in /usr/local/lib/python3.11/dist-packages (from paddleocr) (2.0.5)\n",
            "Requirement already satisfied: albucore in /usr/local/lib/python3.11/dist-packages (from paddleocr) (0.0.23)\n",
            "Requirement already satisfied: termcolor in /usr/local/lib/python3.11/dist-packages (from fire>=0.3.0->paddleocr) (2.5.0)\n",
            "Requirement already satisfied: stringzilla>=3.10.4 in /usr/local/lib/python3.11/dist-packages (from albucore->paddleocr) (3.12.3)\n",
            "Requirement already satisfied: simsimd>=5.9.2 in /usr/local/lib/python3.11/dist-packages (from albucore->paddleocr) (6.2.1)\n",
            "Requirement already satisfied: opencv-python-headless>=4.9.0.80 in /usr/local/lib/python3.11/dist-packages (from albucore->paddleocr) (4.11.0.86)\n",
            "Requirement already satisfied: scipy>=1.10.0 in /usr/local/lib/python3.11/dist-packages (from albumentations->paddleocr) (1.14.1)\n",
            "Requirement already satisfied: pydantic>=2.9.2 in /usr/local/lib/python3.11/dist-packages (from albumentations->paddleocr) (2.10.6)\n",
            "Requirement already satisfied: soupsieve>1.2 in /usr/local/lib/python3.11/dist-packages (from beautifulsoup4->paddleocr) (2.6)\n",
            "Requirement already satisfied: typing-extensions>=4.0.0 in /usr/local/lib/python3.11/dist-packages (from beautifulsoup4->paddleocr) (4.12.2)\n",
            "Requirement already satisfied: lxml>=3.1.0 in /usr/local/lib/python3.11/dist-packages (from python-docx->paddleocr) (5.3.1)\n",
            "Requirement already satisfied: charset-normalizer<4,>=2 in /usr/local/lib/python3.11/dist-packages (from requests->paddleocr) (3.4.1)\n",
            "Requirement already satisfied: idna<4,>=2.5 in /usr/local/lib/python3.11/dist-packages (from requests->paddleocr) (3.10)\n",
            "Requirement already satisfied: urllib3<3,>=1.21.1 in /usr/local/lib/python3.11/dist-packages (from requests->paddleocr) (2.3.0)\n",
            "Requirement already satisfied: certifi>=2017.4.17 in /usr/local/lib/python3.11/dist-packages (from requests->paddleocr) (2025.1.31)\n",
            "Requirement already satisfied: networkx>=3.0 in /usr/local/lib/python3.11/dist-packages (from scikit-image->paddleocr) (3.4.2)\n",
            "Requirement already satisfied: imageio!=2.35.0,>=2.33 in /usr/local/lib/python3.11/dist-packages (from scikit-image->paddleocr) (2.37.0)\n",
            "Requirement already satisfied: tifffile>=2022.8.12 in /usr/local/lib/python3.11/dist-packages (from scikit-image->paddleocr) (2025.3.13)\n",
            "Requirement already satisfied: packaging>=21 in /usr/local/lib/python3.11/dist-packages (from scikit-image->paddleocr) (24.2)\n",
            "Requirement already satisfied: lazy-loader>=0.4 in /usr/local/lib/python3.11/dist-packages (from scikit-image->paddleocr) (0.4)\n",
            "Requirement already satisfied: annotated-types>=0.6.0 in /usr/local/lib/python3.11/dist-packages (from pydantic>=2.9.2->albumentations->paddleocr) (0.7.0)\n",
            "Requirement already satisfied: pydantic-core==2.27.2 in /usr/local/lib/python3.11/dist-packages (from pydantic>=2.9.2->albumentations->paddleocr) (2.27.2)\n"
          ]
        }
      ]
    },
    {
      "cell_type": "code",
      "source": [
        "!pip uninstall -y opencv-contrib-python opencv-python\n",
        "!pip uninstall -y opencv-contrib-python-headless\n",
        "!pip install opencv-contrib-python"
      ],
      "metadata": {
        "colab": {
          "base_uri": "https://localhost:8080/"
        },
        "id": "eKArBciTSxtB",
        "outputId": "419e8469-43f2-49a7-8a51-ba79b506058c"
      },
      "execution_count": 3,
      "outputs": [
        {
          "output_type": "stream",
          "name": "stdout",
          "text": [
            "Found existing installation: opencv-contrib-python 4.11.0.86\n",
            "Uninstalling opencv-contrib-python-4.11.0.86:\n",
            "  Successfully uninstalled opencv-contrib-python-4.11.0.86\n",
            "Found existing installation: opencv-python 4.11.0.86\n",
            "Uninstalling opencv-python-4.11.0.86:\n",
            "  Successfully uninstalled opencv-python-4.11.0.86\n",
            "Found existing installation: opencv-contrib-python-headless 4.11.0.86\n",
            "Uninstalling opencv-contrib-python-headless-4.11.0.86:\n",
            "  Successfully uninstalled opencv-contrib-python-headless-4.11.0.86\n",
            "Collecting opencv-contrib-python\n",
            "  Using cached opencv_contrib_python-4.11.0.86-cp37-abi3-manylinux_2_17_x86_64.manylinux2014_x86_64.whl.metadata (20 kB)\n",
            "Requirement already satisfied: numpy>=1.21.2 in /usr/local/lib/python3.11/dist-packages (from opencv-contrib-python) (2.0.2)\n",
            "Using cached opencv_contrib_python-4.11.0.86-cp37-abi3-manylinux_2_17_x86_64.manylinux2014_x86_64.whl (69.1 MB)\n",
            "Installing collected packages: opencv-contrib-python\n",
            "\u001b[31mERROR: pip's dependency resolver does not currently take into account all the packages that are installed. This behaviour is the source of the following dependency conflicts.\n",
            "paddleocr 2.10.0 requires opencv-python, which is not installed.\u001b[0m\u001b[31m\n",
            "\u001b[0mSuccessfully installed opencv-contrib-python-4.11.0.86\n"
          ]
        }
      ]
    },
    {
      "cell_type": "code",
      "source": [
        "!pip install opencv-contrib-python-headless"
      ],
      "metadata": {
        "colab": {
          "base_uri": "https://localhost:8080/"
        },
        "id": "ZIFCPES2Wtjt",
        "outputId": "7bcafaae-1d2a-49e9-819e-f598488f6932"
      },
      "execution_count": 4,
      "outputs": [
        {
          "output_type": "stream",
          "name": "stdout",
          "text": [
            "Collecting opencv-contrib-python-headless\n",
            "  Using cached opencv_contrib_python_headless-4.11.0.86-cp37-abi3-manylinux_2_17_x86_64.manylinux2014_x86_64.whl.metadata (20 kB)\n",
            "Requirement already satisfied: numpy>=1.21.2 in /usr/local/lib/python3.11/dist-packages (from opencv-contrib-python-headless) (2.0.2)\n",
            "Using cached opencv_contrib_python_headless-4.11.0.86-cp37-abi3-manylinux_2_17_x86_64.manylinux2014_x86_64.whl (56.1 MB)\n",
            "Installing collected packages: opencv-contrib-python-headless\n",
            "Successfully installed opencv-contrib-python-headless-4.11.0.86\n"
          ]
        }
      ]
    },
    {
      "cell_type": "code",
      "source": [
        "import cv2\n",
        "print(\"ximgproc available:\", hasattr(cv2, \"ximgproc\"))"
      ],
      "metadata": {
        "colab": {
          "base_uri": "https://localhost:8080/"
        },
        "id": "4rWUxfRTS11i",
        "outputId": "cff8d17b-056b-4927-b1da-f6c9fe2b2108"
      },
      "execution_count": 5,
      "outputs": [
        {
          "output_type": "stream",
          "name": "stdout",
          "text": [
            "ximgproc available: True\n"
          ]
        }
      ]
    },
    {
      "cell_type": "code",
      "source": [
        "import cv2\n",
        "\n",
        "# Check if niBlackThreshold exists in OpenCV\n",
        "if hasattr(cv2.ximgproc, \"niBlackThreshold\"):\n",
        "    print(\"✅ niBlackThreshold is available!\")\n",
        "else:\n",
        "    print(\"❌ niBlackThreshold is NOT available!\")\n"
      ],
      "metadata": {
        "colab": {
          "base_uri": "https://localhost:8080/"
        },
        "id": "wTZEcpXFVxfd",
        "outputId": "66b5f9d8-9077-4fdc-a451-9f6ccda9a01a"
      },
      "execution_count": 6,
      "outputs": [
        {
          "output_type": "stream",
          "name": "stdout",
          "text": [
            "✅ niBlackThreshold is available!\n"
          ]
        }
      ]
    },
    {
      "cell_type": "code",
      "source": [
        "import cv2\n",
        "print(cv2.__version__)"
      ],
      "metadata": {
        "colab": {
          "base_uri": "https://localhost:8080/"
        },
        "id": "dwhXnH2zV1cq",
        "outputId": "a5c3cf90-8065-4426-e795-a93d3e56e150"
      },
      "execution_count": 7,
      "outputs": [
        {
          "output_type": "stream",
          "name": "stdout",
          "text": [
            "4.11.0\n"
          ]
        }
      ]
    },
    {
      "cell_type": "markdown",
      "source": [
        "# Code"
      ],
      "metadata": {
        "id": "Oxu1ZVFnS3zO"
      }
    },
    {
      "cell_type": "markdown",
      "source": [
        "## Import and dowload"
      ],
      "metadata": {
        "id": "ZUR7ZaBWTgEM"
      }
    },
    {
      "cell_type": "code",
      "source": [
        "import io"
      ],
      "metadata": {
        "id": "z544LroSVLvf"
      },
      "execution_count": 8,
      "outputs": []
    },
    {
      "cell_type": "code",
      "source": [
        "import os\n",
        "import fitz  # PyMuPDF\n",
        "import cv2\n",
        "import numpy as np\n",
        "import pandas as pd\n",
        "from ultralytics import YOLO\n",
        "from paddleocr import PaddleOCR\n",
        "from img2table.document import Image as TableImage\n",
        "from img2table.ocr import PaddleOCR as Img2TableOCR\n",
        "from img2table.tables.objects.extraction import ExtractedTable\n"
      ],
      "metadata": {
        "id": "tfvuwc5GTAIn"
      },
      "execution_count": 9,
      "outputs": []
    },
    {
      "cell_type": "code",
      "source": [
        "import torch\n",
        "import logging\n",
        "\n",
        "# 🔧 Patch torch.load to bypass weight loading errors\n",
        "orig_torch_load = torch.load\n",
        "\n",
        "def torch_wrapper(*args, **kwargs):\n",
        "    logging.warning(\"[comfyui-unsafe-torch] `torch.load` is forcibly loading full weights.\")\n",
        "    kwargs['weights_only'] = False\n",
        "    return orig_torch_load(*args, **kwargs)\n",
        "\n",
        "torch.load = torch_wrapper\n",
        "\n",
        "from ultralytics import YOLO\n",
        "\n",
        "# ✅ Load YOLOv8 table detection model\n",
        "model = YOLO(\"/content/sample_data/TableDetection.pt\")\n",
        "\n",
        "# Check if model is loaded successfully\n",
        "print(\"✅ YOLOv8 Table Detection Model Loaded Successfully!\")\n",
        "\n",
        "ocr = PaddleOCR(use_angle_cls=True, lang=\"vi\")\n",
        "img2table_ocr = Img2TableOCR(lang=\"vi\")\n"
      ],
      "metadata": {
        "colab": {
          "base_uri": "https://localhost:8080/"
        },
        "id": "4XH0HopvTEVr",
        "outputId": "44bb454f-adf8-4796-e829-f8ce0cc539bf"
      },
      "execution_count": 10,
      "outputs": [
        {
          "output_type": "stream",
          "name": "stderr",
          "text": [
            "WARNING:root:[comfyui-unsafe-torch] `torch.load` is forcibly loading full weights.\n"
          ]
        },
        {
          "output_type": "stream",
          "name": "stdout",
          "text": [
            "✅ YOLOv8 Table Detection Model Loaded Successfully!\n",
            "[2025/03/25 08:12:28] ppocr DEBUG: Namespace(help='==SUPPRESS==', use_gpu=False, use_xpu=False, use_npu=False, use_mlu=False, use_gcu=False, ir_optim=True, use_tensorrt=False, min_subgraph_size=15, precision='fp32', gpu_mem=500, gpu_id=0, image_dir=None, page_num=0, det_algorithm='DB', det_model_dir='/root/.paddleocr/whl/det/en/en_PP-OCRv3_det_infer', det_limit_side_len=960, det_limit_type='max', det_box_type='quad', det_db_thresh=0.3, det_db_box_thresh=0.6, det_db_unclip_ratio=1.5, max_batch_size=10, use_dilation=False, det_db_score_mode='fast', det_east_score_thresh=0.8, det_east_cover_thresh=0.1, det_east_nms_thresh=0.2, det_sast_score_thresh=0.5, det_sast_nms_thresh=0.2, det_pse_thresh=0, det_pse_box_thresh=0.85, det_pse_min_area=16, det_pse_scale=1, scales=[8, 16, 32], alpha=1.0, beta=1.0, fourier_degree=5, rec_algorithm='SVTR_LCNet', rec_model_dir='/root/.paddleocr/whl/rec/latin/latin_PP-OCRv3_rec_infer', rec_image_inverse=True, rec_image_shape='3, 48, 320', rec_batch_num=6, max_text_length=25, rec_char_dict_path='/usr/local/lib/python3.11/dist-packages/paddleocr/ppocr/utils/dict/latin_dict.txt', use_space_char=True, vis_font_path='./doc/fonts/simfang.ttf', drop_score=0.5, e2e_algorithm='PGNet', e2e_model_dir=None, e2e_limit_side_len=768, e2e_limit_type='max', e2e_pgnet_score_thresh=0.5, e2e_char_dict_path='./ppocr/utils/ic15_dict.txt', e2e_pgnet_valid_set='totaltext', e2e_pgnet_mode='fast', use_angle_cls=True, cls_model_dir='/root/.paddleocr/whl/cls/ch_ppocr_mobile_v2.0_cls_infer', cls_image_shape='3, 48, 192', label_list=['0', '180'], cls_batch_num=6, cls_thresh=0.9, enable_mkldnn=False, cpu_threads=10, use_pdserving=False, warmup=False, sr_model_dir=None, sr_image_shape='3, 32, 128', sr_batch_num=1, draw_img_save_dir='./inference_results', save_crop_res=False, crop_res_save_dir='./output', use_mp=False, total_process_num=1, process_id=0, benchmark=False, save_log_path='./log_output/', show_log=True, use_onnx=False, onnx_providers=False, onnx_sess_options=False, return_word_box=False, output='./output', table_max_len=488, table_algorithm='TableAttn', table_model_dir=None, merge_no_span_structure=True, table_char_dict_path=None, formula_algorithm='LaTeXOCR', formula_model_dir=None, formula_char_dict_path=None, formula_batch_num=1, layout_model_dir=None, layout_dict_path=None, layout_score_threshold=0.5, layout_nms_threshold=0.5, kie_algorithm='LayoutXLM', ser_model_dir=None, re_model_dir=None, use_visual_backbone=True, ser_dict_path='../train_data/XFUND/class_list_xfun.txt', ocr_order_method=None, mode='structure', image_orientation=False, layout=True, table=True, formula=False, ocr=True, recovery=False, recovery_to_markdown=False, use_pdf2docx_api=False, invert=False, binarize=False, alphacolor=(255, 255, 255), lang='vi', det=True, rec=True, type='ocr', savefile=False, ocr_version='PP-OCRv4', structure_version='PP-StructureV2')\n"
          ]
        }
      ]
    },
    {
      "cell_type": "markdown",
      "source": [
        "## Table Processing"
      ],
      "metadata": {
        "id": "UIJZh2GITcQF"
      }
    },
    {
      "cell_type": "code",
      "source": [
        "\n",
        "def detect_tables(img):\n",
        "    results = model(img)  # YOLOv8 table detection\n",
        "    table_boxes = []\n",
        "\n",
        "    for r in results:\n",
        "        for box in r.boxes.xyxy:\n",
        "            x1, y1, x2, y2 = map(int, box)\n",
        "            table_boxes.append((x1, y1, x2, y2))\n",
        "\n",
        "    return table_boxes\n",
        "\n",
        "def extract_table(img, table_boxes):\n",
        "    extracted_tables = []\n",
        "\n",
        "    for box in table_boxes:\n",
        "        x1, y1, x2, y2 = box\n",
        "        table_img = img[y1:y2, x1:x2]\n",
        "\n",
        "        # Convert NumPy array to bytes\n",
        "        _, buffer = cv2.imencode(\".png\", table_img)\n",
        "        table = TableImage(io.BytesIO(buffer)).extract_tables(ocr=img2table_ocr, borderless_tables=True)\n",
        "\n",
        "        if isinstance(table, list) and table:\n",
        "            extracted_tables.append(table[0])  # Assuming one table per detection\n",
        "\n",
        "    return extracted_tables\n",
        "\n",
        "def format_table_as_markdown(extracted_table: ExtractedTable):\n",
        "    if extracted_table.df is not None:\n",
        "        return extracted_table.df.to_markdown(index=False)\n",
        "    return \"No structured table extracted.\""
      ],
      "metadata": {
        "id": "hYurtTl5TJer"
      },
      "execution_count": 11,
      "outputs": []
    },
    {
      "cell_type": "code",
      "source": [
        "def pdf_to_images(pdf_path, zoom=3.0):\n",
        "    doc = fitz.open(pdf_path)\n",
        "    md_output = \"\"\n",
        "\n",
        "    for i, page in enumerate(doc):\n",
        "        # Convert page to image (No storage, process immediately)\n",
        "        pix = page.get_pixmap(matrix=fitz.Matrix(zoom, zoom))\n",
        "        img = np.frombuffer(pix.samples, dtype=np.uint8).reshape(pix.h, pix.w, pix.n)\n",
        "\n",
        "        # Convert grayscale to BGR if needed\n",
        "        if img.shape[-1] == 1:\n",
        "            img = cv2.cvtColor(img, cv2.COLOR_GRAY2BGR)\n",
        "\n",
        "        # Detect tables directly\n",
        "        table_boxes = detect_tables(img)\n",
        "        extracted_tables = extract_table(img, table_boxes)\n",
        "\n",
        "        for table in extracted_tables:\n",
        "            md_output += format_table_as_markdown(table) + \"\\n\\n\"\n",
        "\n",
        "    # Save extracted tables as Markdown\n",
        "    with open(\"pdf_table.md\", \"w\", encoding=\"utf-8\") as f:\n",
        "        f.write(md_output)\n",
        "\n",
        "    print(\"✅ Markdown file saved as output_table.md\")"
      ],
      "metadata": {
        "id": "K1sFOVOCT3Jn"
      },
      "execution_count": 12,
      "outputs": []
    },
    {
      "cell_type": "code",
      "source": [
        "pdf_path = \"/content/sample_data/HD1860 công tác xét tuyển đào tạo ĐH, CĐ năm 2024_20252211126.pdf\"\n",
        "pdf_to_images(pdf_path)"
      ],
      "metadata": {
        "colab": {
          "base_uri": "https://localhost:8080/"
        },
        "id": "ALF3MzW0UIVL",
        "outputId": "5098b55b-df15-47a6-f89f-15c18311c8a9"
      },
      "execution_count": 13,
      "outputs": [
        {
          "output_type": "stream",
          "name": "stdout",
          "text": [
            "\n",
            "0: 640x480 (no detections), 1398.1ms\n",
            "Speed: 7.3ms preprocess, 1398.1ms inference, 1.2ms postprocess per image at shape (1, 3, 640, 480)\n",
            "\n",
            "0: 640x480 (no detections), 918.0ms\n",
            "Speed: 6.7ms preprocess, 918.0ms inference, 0.8ms postprocess per image at shape (1, 3, 640, 480)\n",
            "\n",
            "0: 640x480 (no detections), 1526.7ms\n",
            "Speed: 5.8ms preprocess, 1526.7ms inference, 0.8ms postprocess per image at shape (1, 3, 640, 480)\n",
            "\n",
            "0: 640x480 (no detections), 1125.0ms\n",
            "Speed: 11.5ms preprocess, 1125.0ms inference, 0.9ms postprocess per image at shape (1, 3, 640, 480)\n",
            "\n",
            "0: 640x480 (no detections), 895.7ms\n",
            "Speed: 12.0ms preprocess, 895.7ms inference, 0.8ms postprocess per image at shape (1, 3, 640, 480)\n",
            "\n",
            "0: 640x480 (no detections), 790.2ms\n",
            "Speed: 6.8ms preprocess, 790.2ms inference, 0.6ms postprocess per image at shape (1, 3, 640, 480)\n",
            "\n",
            "0: 640x480 (no detections), 478.3ms\n",
            "Speed: 5.3ms preprocess, 478.3ms inference, 0.8ms postprocess per image at shape (1, 3, 640, 480)\n",
            "\n",
            "0: 640x480 (no detections), 497.6ms\n",
            "Speed: 4.5ms preprocess, 497.6ms inference, 0.6ms postprocess per image at shape (1, 3, 640, 480)\n",
            "\n",
            "0: 640x480 (no detections), 486.5ms\n",
            "Speed: 5.2ms preprocess, 486.5ms inference, 3.5ms postprocess per image at shape (1, 3, 640, 480)\n",
            "\n",
            "0: 640x480 1 borderless, 495.2ms\n",
            "Speed: 4.3ms preprocess, 495.2ms inference, 1.5ms postprocess per image at shape (1, 3, 640, 480)\n",
            "\n",
            "0: 640x480 (no detections), 484.7ms\n",
            "Speed: 5.0ms preprocess, 484.7ms inference, 0.6ms postprocess per image at shape (1, 3, 640, 480)\n",
            "\n",
            "0: 640x480 (no detections), 481.0ms\n",
            "Speed: 4.9ms preprocess, 481.0ms inference, 0.6ms postprocess per image at shape (1, 3, 640, 480)\n",
            "\n",
            "0: 640x480 1 bordered, 585.4ms\n",
            "Speed: 5.8ms preprocess, 585.4ms inference, 1.6ms postprocess per image at shape (1, 3, 640, 480)\n",
            "\n",
            "0: 640x480 (no detections), 1086.0ms\n",
            "Speed: 15.6ms preprocess, 1086.0ms inference, 1.8ms postprocess per image at shape (1, 3, 640, 480)\n",
            "\n",
            "0: 640x480 (no detections), 1014.0ms\n",
            "Speed: 6.9ms preprocess, 1014.0ms inference, 1.1ms postprocess per image at shape (1, 3, 640, 480)\n",
            "\n",
            "0: 640x480 1 bordered, 542.9ms\n",
            "Speed: 4.2ms preprocess, 542.9ms inference, 1.0ms postprocess per image at shape (1, 3, 640, 480)\n",
            "\n",
            "0: 640x480 1 bordered, 466.4ms\n",
            "Speed: 5.3ms preprocess, 466.4ms inference, 1.4ms postprocess per image at shape (1, 3, 640, 480)\n",
            "\n",
            "0: 640x480 3 bordereds, 452.3ms\n",
            "Speed: 5.7ms preprocess, 452.3ms inference, 1.0ms postprocess per image at shape (1, 3, 640, 480)\n",
            "\n",
            "0: 640x480 1 bordered, 468.8ms\n",
            "Speed: 5.4ms preprocess, 468.8ms inference, 1.0ms postprocess per image at shape (1, 3, 640, 480)\n",
            "\n",
            "0: 640x480 3 bordereds, 474.8ms\n",
            "Speed: 4.6ms preprocess, 474.8ms inference, 8.4ms postprocess per image at shape (1, 3, 640, 480)\n",
            "\n",
            "0: 480x640 1 bordered, 469.4ms\n",
            "Speed: 4.4ms preprocess, 469.4ms inference, 1.0ms postprocess per image at shape (1, 3, 480, 640)\n",
            "\n",
            "0: 480x640 1 bordered, 449.0ms\n",
            "Speed: 4.7ms preprocess, 449.0ms inference, 1.0ms postprocess per image at shape (1, 3, 480, 640)\n",
            "\n",
            "0: 480x640 1 bordered, 727.1ms\n",
            "Speed: 7.2ms preprocess, 727.1ms inference, 1.5ms postprocess per image at shape (1, 3, 480, 640)\n",
            "\n",
            "0: 480x640 1 bordered, 475.0ms\n",
            "Speed: 4.8ms preprocess, 475.0ms inference, 1.0ms postprocess per image at shape (1, 3, 480, 640)\n",
            "\n",
            "0: 480x640 1 bordered, 469.7ms\n",
            "Speed: 5.5ms preprocess, 469.7ms inference, 1.1ms postprocess per image at shape (1, 3, 480, 640)\n",
            "✅ Markdown file saved as output_table.md\n"
          ]
        }
      ]
    }
  ]
}