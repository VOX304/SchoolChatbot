{
  "nbformat": 4,
  "nbformat_minor": 0,
  "metadata": {
    "colab": {
      "provenance": [],
      "authorship_tag": "ABX9TyM4OXTfgIc4/F/JMHC/a2d5",
      "include_colab_link": true
    },
    "kernelspec": {
      "name": "python3",
      "display_name": "Python 3"
    },
    "language_info": {
      "name": "python"
    }
  },
  "cells": [
    {
      "cell_type": "markdown",
      "metadata": {
        "id": "view-in-github",
        "colab_type": "text"
      },
      "source": [
        "<a href=\"https://colab.research.google.com/github/VOX304/SchoolChatbot/blob/main/Preprocessing/Colab_preprocessing/text_preprocessing.ipynb\" target=\"_parent\"><img src=\"https://colab.research.google.com/assets/colab-badge.svg\" alt=\"Open In Colab\"/></a>"
      ]
    },
    {
      "cell_type": "code",
      "source": [
        "!pip install python-docx pdfplumber chardet\n"
      ],
      "metadata": {
        "colab": {
          "base_uri": "https://localhost:8080/"
        },
        "id": "zZAY0QRdj2vH",
        "outputId": "81b3f675-75cb-4d32-c481-064064bd28e8"
      },
      "execution_count": null,
      "outputs": [
        {
          "output_type": "stream",
          "name": "stdout",
          "text": [
            "Collecting python-docx\n",
            "  Downloading python_docx-1.1.2-py3-none-any.whl.metadata (2.0 kB)\n",
            "Collecting pdfplumber\n",
            "  Downloading pdfplumber-0.11.5-py3-none-any.whl.metadata (42 kB)\n",
            "\u001b[2K     \u001b[90m━━━━━━━━━━━━━━━━━━━━━━━━━━━━━━━━━━━━━━━━\u001b[0m \u001b[32m42.5/42.5 kB\u001b[0m \u001b[31m560.4 kB/s\u001b[0m eta \u001b[36m0:00:00\u001b[0m\n",
            "\u001b[?25hRequirement already satisfied: chardet in /usr/local/lib/python3.11/dist-packages (5.2.0)\n",
            "Requirement already satisfied: lxml>=3.1.0 in /usr/local/lib/python3.11/dist-packages (from python-docx) (5.3.1)\n",
            "Requirement already satisfied: typing-extensions>=4.9.0 in /usr/local/lib/python3.11/dist-packages (from python-docx) (4.12.2)\n",
            "Collecting pdfminer.six==20231228 (from pdfplumber)\n",
            "  Downloading pdfminer.six-20231228-py3-none-any.whl.metadata (4.2 kB)\n",
            "Requirement already satisfied: Pillow>=9.1 in /usr/local/lib/python3.11/dist-packages (from pdfplumber) (11.1.0)\n",
            "Collecting pypdfium2>=4.18.0 (from pdfplumber)\n",
            "  Downloading pypdfium2-4.30.1-py3-none-manylinux_2_17_x86_64.manylinux2014_x86_64.whl.metadata (48 kB)\n",
            "\u001b[2K     \u001b[90m━━━━━━━━━━━━━━━━━━━━━━━━━━━━━━━━━━━━━━━━\u001b[0m \u001b[32m48.2/48.2 kB\u001b[0m \u001b[31m981.7 kB/s\u001b[0m eta \u001b[36m0:00:00\u001b[0m\n",
            "\u001b[?25hRequirement already satisfied: charset-normalizer>=2.0.0 in /usr/local/lib/python3.11/dist-packages (from pdfminer.six==20231228->pdfplumber) (3.4.1)\n",
            "Requirement already satisfied: cryptography>=36.0.0 in /usr/local/lib/python3.11/dist-packages (from pdfminer.six==20231228->pdfplumber) (43.0.3)\n",
            "Requirement already satisfied: cffi>=1.12 in /usr/local/lib/python3.11/dist-packages (from cryptography>=36.0.0->pdfminer.six==20231228->pdfplumber) (1.17.1)\n",
            "Requirement already satisfied: pycparser in /usr/local/lib/python3.11/dist-packages (from cffi>=1.12->cryptography>=36.0.0->pdfminer.six==20231228->pdfplumber) (2.22)\n",
            "Downloading python_docx-1.1.2-py3-none-any.whl (244 kB)\n",
            "\u001b[2K   \u001b[90m━━━━━━━━━━━━━━━━━━━━━━━━━━━━━━━━━━━━━━━━\u001b[0m \u001b[32m244.3/244.3 kB\u001b[0m \u001b[31m5.2 MB/s\u001b[0m eta \u001b[36m0:00:00\u001b[0m\n",
            "\u001b[?25hDownloading pdfplumber-0.11.5-py3-none-any.whl (59 kB)\n",
            "\u001b[2K   \u001b[90m━━━━━━━━━━━━━━━━━━━━━━━━━━━━━━━━━━━━━━━━\u001b[0m \u001b[32m59.5/59.5 kB\u001b[0m \u001b[31m3.5 MB/s\u001b[0m eta \u001b[36m0:00:00\u001b[0m\n",
            "\u001b[?25hDownloading pdfminer.six-20231228-py3-none-any.whl (5.6 MB)\n",
            "\u001b[2K   \u001b[90m━━━━━━━━━━━━━━━━━━━━━━━━━━━━━━━━━━━━━━━━\u001b[0m \u001b[32m5.6/5.6 MB\u001b[0m \u001b[31m34.1 MB/s\u001b[0m eta \u001b[36m0:00:00\u001b[0m\n",
            "\u001b[?25hDownloading pypdfium2-4.30.1-py3-none-manylinux_2_17_x86_64.manylinux2014_x86_64.whl (2.9 MB)\n",
            "\u001b[2K   \u001b[90m━━━━━━━━━━━━━━━━━━━━━━━━━━━━━━━━━━━━━━━━\u001b[0m \u001b[32m2.9/2.9 MB\u001b[0m \u001b[31m36.0 MB/s\u001b[0m eta \u001b[36m0:00:00\u001b[0m\n",
            "\u001b[?25hInstalling collected packages: python-docx, pypdfium2, pdfminer.six, pdfplumber\n",
            "Successfully installed pdfminer.six-20231228 pdfplumber-0.11.5 pypdfium2-4.30.1 python-docx-1.1.2\n"
          ]
        }
      ]
    },
    {
      "cell_type": "code",
      "source": [
        "!pip install pytesseract"
      ],
      "metadata": {
        "colab": {
          "base_uri": "https://localhost:8080/"
        },
        "id": "Ptgr0E0Toul6",
        "outputId": "7975f011-fb1f-40e3-c559-c9512129397e"
      },
      "execution_count": null,
      "outputs": [
        {
          "output_type": "stream",
          "name": "stdout",
          "text": [
            "Collecting pytesseract\n",
            "  Downloading pytesseract-0.3.13-py3-none-any.whl.metadata (11 kB)\n",
            "Requirement already satisfied: packaging>=21.3 in /usr/local/lib/python3.11/dist-packages (from pytesseract) (24.2)\n",
            "Requirement already satisfied: Pillow>=8.0.0 in /usr/local/lib/python3.11/dist-packages (from pytesseract) (11.1.0)\n",
            "Downloading pytesseract-0.3.13-py3-none-any.whl (14 kB)\n",
            "Installing collected packages: pytesseract\n",
            "Successfully installed pytesseract-0.3.13\n"
          ]
        }
      ]
    },
    {
      "cell_type": "code",
      "execution_count": null,
      "metadata": {
        "colab": {
          "base_uri": "https://localhost:8080/"
        },
        "id": "HwaRKzHDjv_g",
        "outputId": "1cd42a9c-65e8-4dba-f922-c030099a8992"
      },
      "outputs": [
        {
          "output_type": "stream",
          "name": "stdout",
          "text": [
            "Detected corrupted text. Attempting re-encoding...\n",
            "Detected corrupted text. Attempting re-encoding...\n",
            "Detected corrupted text. Attempting re-encoding...\n",
            "Alert: Extracted text still appears corrupted. Applying OCR as fallback.\n",
            "Error during OCR: cannot identify image file '/content/sample_data/tcu_doc/HD1860 công tác xét tuyển đào tạo ĐH, CĐ năm 2024_20252211126.pdf'\n",
            "Final alert: Text extraction failed.\n"
          ]
        }
      ],
      "source": [
        "import os\n",
        "import docx\n",
        "import pdfplumber\n",
        "import chardet\n",
        "import pytesseract\n",
        "import re\n",
        "from pathlib import Path\n",
        "from PIL import Image\n",
        "\n",
        "def detect_encoding(file_path):\n",
        "    \"\"\"Detect encoding of a text file.\"\"\"\n",
        "    with open(file_path, 'rb') as f:\n",
        "        raw_data = f.read()\n",
        "        result = chardet.detect(raw_data)\n",
        "    return result['encoding']\n",
        "\n",
        "def extract_text_from_docx(doc_path):\n",
        "    \"\"\"Extract text from DOCX files.\"\"\"\n",
        "    try:\n",
        "        doc = docx.Document(doc_path)\n",
        "        return '\\n'.join([para.text for para in doc.paragraphs])\n",
        "    except Exception as e:\n",
        "        print(f\"Error extracting DOCX text: {e}\")\n",
        "        return None\n",
        "\n",
        "def extract_text_from_pdf(pdf_path):\n",
        "    \"\"\"Extract text from PDFs using pdfplumber.\"\"\"\n",
        "    try:\n",
        "        text = \"\"\n",
        "        with pdfplumber.open(pdf_path) as pdf:\n",
        "            for page in pdf.pages:\n",
        "                text += page.extract_text() + '\\n'\n",
        "        return text if text.strip() else None\n",
        "    except Exception as e:\n",
        "        print(f\"Error extracting PDF text: {e}\")\n",
        "        return None\n",
        "\n",
        "def detect_corrupted_text(text):\n",
        "    \"\"\"Detect if extracted text is corrupted based on Vietnamese character distribution.\"\"\"\n",
        "    if text is None or len(text.strip()) == 0:\n",
        "        return True  # Empty or None text is considered corrupted\n",
        "\n",
        "    # Check for non-ASCII characters ratio\n",
        "    non_ascii_ratio = sum(1 for char in text if ord(char) > 127) / len(text)\n",
        "    if non_ascii_ratio < 0.1:  # Too few non-ASCII characters (likely missing Vietnamese diacritics)\n",
        "        return True\n",
        "\n",
        "    # Check for valid Vietnamese character frequency (heuristic approach)\n",
        "    vietnamese_chars = \"áàảãạâấầẩẫậăắằẳẵặéèẻẽẹêếềểễệíìỉĩịóòỏõọôốồổỗộơớờởỡợúùủũụưứừửữựýỳỷỹỵđ\"\n",
        "    vietnamese_char_ratio = sum(1 for char in text if char in vietnamese_chars) / max(len(text), 1)\n",
        "\n",
        "    if vietnamese_char_ratio < 0.05:  # Less than 5% of characters are Vietnamese diacritics\n",
        "        return True\n",
        "\n",
        "    return False\n",
        "\n",
        "def apply_ocr(image_path):\n",
        "    \"\"\"Apply OCR on an image to extract text.\"\"\"\n",
        "    try:\n",
        "        return pytesseract.image_to_string(Image.open(image_path))\n",
        "    except Exception as e:\n",
        "        print(f\"Error during OCR: {e}\")\n",
        "        return None\n",
        "\n",
        "def process_document(file_path):\n",
        "    \"\"\"Main function to process document for text extraction and corruption handling.\"\"\"\n",
        "    ext = Path(file_path).suffix.lower()\n",
        "    extracted_text = None\n",
        "\n",
        "    if ext in ['.doc', '.docx']:\n",
        "        extracted_text = extract_text_from_docx(file_path)\n",
        "    elif ext == '.pdf':\n",
        "        extracted_text = extract_text_from_pdf(file_path)\n",
        "    else:\n",
        "        print(\"Unsupported file type!\")\n",
        "        return\n",
        "\n",
        "    attempts = 3\n",
        "    while detect_corrupted_text(extracted_text) and attempts > 0:\n",
        "        print(\"Detected corrupted text. Attempting re-encoding...\")\n",
        "        encoding = detect_encoding(file_path)\n",
        "        try:\n",
        "            with open(file_path, 'r', encoding=encoding, errors='replace') as f:\n",
        "                extracted_text = f.read()\n",
        "        except Exception as e:\n",
        "            print(f\"Encoding correction failed: {e}\")\n",
        "        attempts -= 1\n",
        "\n",
        "    if detect_corrupted_text(extracted_text):\n",
        "        print(\"Alert: Extracted text still appears corrupted. Applying OCR as fallback.\")\n",
        "        extracted_text = apply_ocr(file_path)\n",
        "\n",
        "    if extracted_text:\n",
        "        print(\"Extracted Text:\")\n",
        "        print(extracted_text[:500])  # Print first 500 characters for preview\n",
        "    else:\n",
        "        print(\"Final alert: Text extraction failed.\")\n",
        "\n",
        "# Example usage\n",
        "file_path = \"/content/sample_data/tcu_doc/HD1860 công tác xét tuyển đào tạo ĐH, CĐ năm 2024_20252211126.pdf\"  # Change to your file path\n",
        "process_document(file_path)\n"
      ]
    }
  ]
}