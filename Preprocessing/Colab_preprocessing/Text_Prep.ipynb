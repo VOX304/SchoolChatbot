{
  "nbformat": 4,
  "nbformat_minor": 0,
  "metadata": {
    "colab": {
      "provenance": [],
      "gpuType": "T4",
      "authorship_tag": "ABX9TyOQY4y8mtseKBoit1Tb9Ny7",
      "include_colab_link": true
    },
    "kernelspec": {
      "name": "python3",
      "display_name": "Python 3"
    },
    "language_info": {
      "name": "python"
    },
    "accelerator": "GPU"
  },
  "cells": [
    {
      "cell_type": "markdown",
      "metadata": {
        "id": "view-in-github",
        "colab_type": "text"
      },
      "source": [
        "<a href=\"https://colab.research.google.com/github/VOX304/SchoolChatbot/blob/main/Preprocessing/Colab_preprocessing/Text_Prep.ipynb\" target=\"_parent\"><img src=\"https://colab.research.google.com/assets/colab-badge.svg\" alt=\"Open In Colab\"/></a>"
      ]
    },
    {
      "cell_type": "code",
      "source": [
        "!pip install python-docx pdfplumber chardet\n"
      ],
      "metadata": {
        "colab": {
          "base_uri": "https://localhost:8080/"
        },
        "id": "zZAY0QRdj2vH",
        "outputId": "aedcf3f4-9e20-42b1-a376-465b4744d142"
      },
      "execution_count": null,
      "outputs": [
        {
          "output_type": "stream",
          "name": "stdout",
          "text": [
            "Collecting python-docx\n",
            "  Downloading python_docx-1.1.2-py3-none-any.whl.metadata (2.0 kB)\n",
            "Collecting pdfplumber\n",
            "  Downloading pdfplumber-0.11.5-py3-none-any.whl.metadata (42 kB)\n",
            "\u001b[?25l     \u001b[90m━━━━━━━━━━━━━━━━━━━━━━━━━━━━━━━━━━━━━━━━\u001b[0m \u001b[32m0.0/42.5 kB\u001b[0m \u001b[31m?\u001b[0m eta \u001b[36m-:--:--\u001b[0m\r\u001b[2K     \u001b[90m━━━━━━━━━━━━━━━━━━━━━━━━━━━━━━━━━━━━━━━━\u001b[0m \u001b[32m42.5/42.5 kB\u001b[0m \u001b[31m3.1 MB/s\u001b[0m eta \u001b[36m0:00:00\u001b[0m\n",
            "\u001b[?25hRequirement already satisfied: chardet in /usr/local/lib/python3.11/dist-packages (5.2.0)\n",
            "Requirement already satisfied: lxml>=3.1.0 in /usr/local/lib/python3.11/dist-packages (from python-docx) (5.3.1)\n",
            "Requirement already satisfied: typing-extensions>=4.9.0 in /usr/local/lib/python3.11/dist-packages (from python-docx) (4.12.2)\n",
            "Collecting pdfminer.six==20231228 (from pdfplumber)\n",
            "  Downloading pdfminer.six-20231228-py3-none-any.whl.metadata (4.2 kB)\n",
            "Requirement already satisfied: Pillow>=9.1 in /usr/local/lib/python3.11/dist-packages (from pdfplumber) (11.1.0)\n",
            "Collecting pypdfium2>=4.18.0 (from pdfplumber)\n",
            "  Downloading pypdfium2-4.30.1-py3-none-manylinux_2_17_x86_64.manylinux2014_x86_64.whl.metadata (48 kB)\n",
            "\u001b[2K     \u001b[90m━━━━━━━━━━━━━━━━━━━━━━━━━━━━━━━━━━━━━━━━\u001b[0m \u001b[32m48.2/48.2 kB\u001b[0m \u001b[31m4.0 MB/s\u001b[0m eta \u001b[36m0:00:00\u001b[0m\n",
            "\u001b[?25hRequirement already satisfied: charset-normalizer>=2.0.0 in /usr/local/lib/python3.11/dist-packages (from pdfminer.six==20231228->pdfplumber) (3.4.1)\n",
            "Requirement already satisfied: cryptography>=36.0.0 in /usr/local/lib/python3.11/dist-packages (from pdfminer.six==20231228->pdfplumber) (43.0.3)\n",
            "Requirement already satisfied: cffi>=1.12 in /usr/local/lib/python3.11/dist-packages (from cryptography>=36.0.0->pdfminer.six==20231228->pdfplumber) (1.17.1)\n",
            "Requirement already satisfied: pycparser in /usr/local/lib/python3.11/dist-packages (from cffi>=1.12->cryptography>=36.0.0->pdfminer.six==20231228->pdfplumber) (2.22)\n",
            "Downloading python_docx-1.1.2-py3-none-any.whl (244 kB)\n",
            "\u001b[2K   \u001b[90m━━━━━━━━━━━━━━━━━━━━━━━━━━━━━━━━━━━━━━━━\u001b[0m \u001b[32m244.3/244.3 kB\u001b[0m \u001b[31m17.8 MB/s\u001b[0m eta \u001b[36m0:00:00\u001b[0m\n",
            "\u001b[?25hDownloading pdfplumber-0.11.5-py3-none-any.whl (59 kB)\n",
            "\u001b[2K   \u001b[90m━━━━━━━━━━━━━━━━━━━━━━━━━━━━━━━━━━━━━━━━\u001b[0m \u001b[32m59.5/59.5 kB\u001b[0m \u001b[31m5.1 MB/s\u001b[0m eta \u001b[36m0:00:00\u001b[0m\n",
            "\u001b[?25hDownloading pdfminer.six-20231228-py3-none-any.whl (5.6 MB)\n",
            "\u001b[2K   \u001b[90m━━━━━━━━━━━━━━━━━━━━━━━━━━━━━━━━━━━━━━━━\u001b[0m \u001b[32m5.6/5.6 MB\u001b[0m \u001b[31m106.2 MB/s\u001b[0m eta \u001b[36m0:00:00\u001b[0m\n",
            "\u001b[?25hDownloading pypdfium2-4.30.1-py3-none-manylinux_2_17_x86_64.manylinux2014_x86_64.whl (2.9 MB)\n",
            "\u001b[2K   \u001b[90m━━━━━━━━━━━━━━━━━━━━━━━━━━━━━━━━━━━━━━━━\u001b[0m \u001b[32m2.9/2.9 MB\u001b[0m \u001b[31m89.6 MB/s\u001b[0m eta \u001b[36m0:00:00\u001b[0m\n",
            "\u001b[?25hInstalling collected packages: python-docx, pypdfium2, pdfminer.six, pdfplumber\n",
            "Successfully installed pdfminer.six-20231228 pdfplumber-0.11.5 pypdfium2-4.30.1 python-docx-1.1.2\n"
          ]
        }
      ]
    },
    {
      "cell_type": "code",
      "source": [
        "!pip install pytesseract"
      ],
      "metadata": {
        "colab": {
          "base_uri": "https://localhost:8080/"
        },
        "id": "Ptgr0E0Toul6",
        "outputId": "e657ecb5-c1b7-462d-c7db-c5dfb736dc12"
      },
      "execution_count": null,
      "outputs": [
        {
          "output_type": "stream",
          "name": "stdout",
          "text": [
            "Collecting pytesseract\n",
            "  Downloading pytesseract-0.3.13-py3-none-any.whl.metadata (11 kB)\n",
            "Requirement already satisfied: packaging>=21.3 in /usr/local/lib/python3.11/dist-packages (from pytesseract) (24.2)\n",
            "Requirement already satisfied: Pillow>=8.0.0 in /usr/local/lib/python3.11/dist-packages (from pytesseract) (11.1.0)\n",
            "Downloading pytesseract-0.3.13-py3-none-any.whl (14 kB)\n",
            "Installing collected packages: pytesseract\n",
            "Successfully installed pytesseract-0.3.13\n"
          ]
        }
      ]
    },
    {
      "cell_type": "code",
      "source": [
        "!pip install pdfplumber docx chardet pytesseract paddleocr vietocr fitz"
      ],
      "metadata": {
        "colab": {
          "base_uri": "https://localhost:8080/",
          "height": 1000
        },
        "id": "_ti9Zxt1Gs85",
        "outputId": "9a140aba-0271-4a36-8c6a-b6a07ad9948e"
      },
      "execution_count": null,
      "outputs": [
        {
          "output_type": "stream",
          "name": "stdout",
          "text": [
            "Requirement already satisfied: pdfplumber in /usr/local/lib/python3.11/dist-packages (0.11.5)\n",
            "Collecting docx\n",
            "  Downloading docx-0.2.4.tar.gz (54 kB)\n",
            "\u001b[?25l     \u001b[90m━━━━━━━━━━━━━━━━━━━━━━━━━━━━━━━━━━━━━━━━\u001b[0m \u001b[32m0.0/54.9 kB\u001b[0m \u001b[31m?\u001b[0m eta \u001b[36m-:--:--\u001b[0m\r\u001b[2K     \u001b[90m━━━━━━━━━━━━━━━━━━━━━━━━━━━━━━━━━━━━━━━━\u001b[0m \u001b[32m54.9/54.9 kB\u001b[0m \u001b[31m4.6 MB/s\u001b[0m eta \u001b[36m0:00:00\u001b[0m\n",
            "\u001b[?25h  Preparing metadata (setup.py) ... \u001b[?25l\u001b[?25hdone\n",
            "Requirement already satisfied: chardet in /usr/local/lib/python3.11/dist-packages (5.2.0)\n",
            "Requirement already satisfied: pytesseract in /usr/local/lib/python3.11/dist-packages (0.3.13)\n",
            "Collecting paddleocr\n",
            "  Downloading paddleocr-2.10.0-py3-none-any.whl.metadata (12 kB)\n",
            "Collecting vietocr\n",
            "  Downloading vietocr-0.3.13-py3-none-any.whl.metadata (4.1 kB)\n",
            "Collecting fitz\n",
            "  Downloading fitz-0.0.1.dev2-py2.py3-none-any.whl.metadata (816 bytes)\n",
            "Requirement already satisfied: pdfminer.six==20231228 in /usr/local/lib/python3.11/dist-packages (from pdfplumber) (20231228)\n",
            "Requirement already satisfied: Pillow>=9.1 in /usr/local/lib/python3.11/dist-packages (from pdfplumber) (11.1.0)\n",
            "Requirement already satisfied: pypdfium2>=4.18.0 in /usr/local/lib/python3.11/dist-packages (from pdfplumber) (4.30.1)\n",
            "Requirement already satisfied: charset-normalizer>=2.0.0 in /usr/local/lib/python3.11/dist-packages (from pdfminer.six==20231228->pdfplumber) (3.4.1)\n",
            "Requirement already satisfied: cryptography>=36.0.0 in /usr/local/lib/python3.11/dist-packages (from pdfminer.six==20231228->pdfplumber) (43.0.3)\n",
            "Requirement already satisfied: lxml in /usr/local/lib/python3.11/dist-packages (from docx) (5.3.1)\n",
            "Requirement already satisfied: packaging>=21.3 in /usr/local/lib/python3.11/dist-packages (from pytesseract) (24.2)\n",
            "Requirement already satisfied: shapely in /usr/local/lib/python3.11/dist-packages (from paddleocr) (2.0.7)\n",
            "Requirement already satisfied: scikit-image in /usr/local/lib/python3.11/dist-packages (from paddleocr) (0.25.2)\n",
            "Collecting pyclipper (from paddleocr)\n",
            "  Downloading pyclipper-1.3.0.post6-cp311-cp311-manylinux_2_17_x86_64.manylinux2014_x86_64.whl.metadata (9.0 kB)\n",
            "Collecting lmdb (from paddleocr)\n",
            "  Downloading lmdb-1.6.2-cp311-cp311-manylinux_2_17_x86_64.manylinux2014_x86_64.whl.metadata (1.1 kB)\n",
            "Requirement already satisfied: tqdm in /usr/local/lib/python3.11/dist-packages (from paddleocr) (4.67.1)\n",
            "Requirement already satisfied: numpy in /usr/local/lib/python3.11/dist-packages (from paddleocr) (2.0.2)\n",
            "Collecting rapidfuzz (from paddleocr)\n",
            "  Downloading rapidfuzz-3.12.2-cp311-cp311-manylinux_2_17_x86_64.manylinux2014_x86_64.whl.metadata (12 kB)\n",
            "Requirement already satisfied: opencv-python in /usr/local/lib/python3.11/dist-packages (from paddleocr) (4.11.0.86)\n",
            "Requirement already satisfied: opencv-contrib-python in /usr/local/lib/python3.11/dist-packages (from paddleocr) (4.11.0.86)\n",
            "Requirement already satisfied: cython in /usr/local/lib/python3.11/dist-packages (from paddleocr) (3.0.12)\n",
            "Requirement already satisfied: pyyaml in /usr/local/lib/python3.11/dist-packages (from paddleocr) (6.0.2)\n",
            "Requirement already satisfied: python-docx in /usr/local/lib/python3.11/dist-packages (from paddleocr) (1.1.2)\n",
            "Requirement already satisfied: beautifulsoup4 in /usr/local/lib/python3.11/dist-packages (from paddleocr) (4.13.3)\n",
            "Requirement already satisfied: fonttools>=4.24.0 in /usr/local/lib/python3.11/dist-packages (from paddleocr) (4.56.0)\n",
            "Collecting fire>=0.3.0 (from paddleocr)\n",
            "  Downloading fire-0.7.0.tar.gz (87 kB)\n",
            "\u001b[2K     \u001b[90m━━━━━━━━━━━━━━━━━━━━━━━━━━━━━━━━━━━━━━━━\u001b[0m \u001b[32m87.2/87.2 kB\u001b[0m \u001b[31m6.9 MB/s\u001b[0m eta \u001b[36m0:00:00\u001b[0m\n",
            "\u001b[?25h  Preparing metadata (setup.py) ... \u001b[?25l\u001b[?25hdone\n",
            "Requirement already satisfied: requests in /usr/local/lib/python3.11/dist-packages (from paddleocr) (2.32.3)\n",
            "Requirement already satisfied: albumentations in /usr/local/lib/python3.11/dist-packages (from paddleocr) (2.0.5)\n",
            "Requirement already satisfied: albucore in /usr/local/lib/python3.11/dist-packages (from paddleocr) (0.0.23)\n",
            "Collecting einops==0.2.0 (from vietocr)\n",
            "  Downloading einops-0.2.0-py2.py3-none-any.whl.metadata (8.7 kB)\n",
            "Collecting gdown==4.4.0 (from vietocr)\n",
            "  Downloading gdown-4.4.0.tar.gz (14 kB)\n",
            "  Installing build dependencies ... \u001b[?25l\u001b[?25hdone\n",
            "  Getting requirements to build wheel ... \u001b[?25l\u001b[?25hdone\n",
            "  Preparing metadata (pyproject.toml) ... \u001b[?25l\u001b[?25hdone\n",
            "Collecting prefetch-generator==1.0.1 (from vietocr)\n",
            "  Downloading prefetch_generator-1.0.1.tar.gz (3.4 kB)\n",
            "  Preparing metadata (setup.py) ... \u001b[?25l\u001b[?25hdone\n",
            "Collecting imgaug==0.4.0 (from vietocr)\n",
            "  Downloading imgaug-0.4.0-py2.py3-none-any.whl.metadata (1.8 kB)\n",
            "Collecting albumentations (from paddleocr)\n",
            "  Downloading albumentations-1.4.2-py3-none-any.whl.metadata (36 kB)\n",
            "Collecting Pillow>=9.1 (from pdfplumber)\n",
            "  Downloading pillow-10.2.0-cp311-cp311-manylinux_2_28_x86_64.whl.metadata (9.7 kB)\n",
            "Requirement already satisfied: scipy>=1.10.0 in /usr/local/lib/python3.11/dist-packages (from albumentations->paddleocr) (1.14.1)\n",
            "Requirement already satisfied: typing-extensions>=4.9.0 in /usr/local/lib/python3.11/dist-packages (from albumentations->paddleocr) (4.12.2)\n",
            "Requirement already satisfied: scikit-learn>=1.3.2 in /usr/local/lib/python3.11/dist-packages (from albumentations->paddleocr) (1.6.1)\n",
            "Requirement already satisfied: opencv-python-headless>=4.9.0 in /usr/local/lib/python3.11/dist-packages (from albumentations->paddleocr) (4.11.0.86)\n",
            "Requirement already satisfied: filelock in /usr/local/lib/python3.11/dist-packages (from gdown==4.4.0->vietocr) (3.18.0)\n",
            "Requirement already satisfied: six in /usr/local/lib/python3.11/dist-packages (from gdown==4.4.0->vietocr) (1.17.0)\n",
            "Requirement already satisfied: matplotlib in /usr/local/lib/python3.11/dist-packages (from imgaug==0.4.0->vietocr) (3.10.0)\n",
            "Requirement already satisfied: imageio in /usr/local/lib/python3.11/dist-packages (from imgaug==0.4.0->vietocr) (2.37.0)\n",
            "Collecting configobj (from fitz)\n",
            "  Downloading configobj-5.0.9-py2.py3-none-any.whl.metadata (3.2 kB)\n",
            "Collecting configparser (from fitz)\n",
            "  Downloading configparser-7.2.0-py3-none-any.whl.metadata (5.5 kB)\n",
            "Requirement already satisfied: httplib2 in /usr/local/lib/python3.11/dist-packages (from fitz) (0.22.0)\n",
            "Requirement already satisfied: nibabel in /usr/local/lib/python3.11/dist-packages (from fitz) (5.3.2)\n",
            "Collecting nipype (from fitz)\n",
            "  Downloading nipype-1.10.0-py3-none-any.whl.metadata (7.1 kB)\n",
            "Requirement already satisfied: pandas in /usr/local/lib/python3.11/dist-packages (from fitz) (2.2.2)\n",
            "Collecting pyxnat (from fitz)\n",
            "  Downloading pyxnat-1.6.3-py3-none-any.whl.metadata (5.4 kB)\n",
            "Requirement already satisfied: termcolor in /usr/local/lib/python3.11/dist-packages (from fire>=0.3.0->paddleocr) (2.5.0)\n",
            "Requirement already satisfied: networkx>=3.0 in /usr/local/lib/python3.11/dist-packages (from scikit-image->paddleocr) (3.4.2)\n",
            "Requirement already satisfied: tifffile>=2022.8.12 in /usr/local/lib/python3.11/dist-packages (from scikit-image->paddleocr) (2025.3.13)\n",
            "Requirement already satisfied: lazy-loader>=0.4 in /usr/local/lib/python3.11/dist-packages (from scikit-image->paddleocr) (0.4)\n",
            "Requirement already satisfied: stringzilla>=3.10.4 in /usr/local/lib/python3.11/dist-packages (from albucore->paddleocr) (3.12.3)\n",
            "Requirement already satisfied: simsimd>=5.9.2 in /usr/local/lib/python3.11/dist-packages (from albucore->paddleocr) (6.2.1)\n",
            "Requirement already satisfied: soupsieve>1.2 in /usr/local/lib/python3.11/dist-packages (from beautifulsoup4->paddleocr) (2.6)\n",
            "Requirement already satisfied: pyparsing!=3.0.0,!=3.0.1,!=3.0.2,!=3.0.3,<4,>=2.4.2 in /usr/local/lib/python3.11/dist-packages (from httplib2->fitz) (3.2.1)\n",
            "Requirement already satisfied: importlib-resources>=5.12 in /usr/local/lib/python3.11/dist-packages (from nibabel->fitz) (6.5.2)\n",
            "Requirement already satisfied: click>=6.6.0 in /usr/local/lib/python3.11/dist-packages (from nipype->fitz) (8.1.8)\n",
            "Collecting prov>=1.5.2 (from nipype->fitz)\n",
            "  Downloading prov-2.0.1-py3-none-any.whl.metadata (3.6 kB)\n",
            "Requirement already satisfied: pydot>=1.2.3 in /usr/local/lib/python3.11/dist-packages (from nipype->fitz) (3.0.4)\n",
            "Requirement already satisfied: python-dateutil>=2.2 in /usr/local/lib/python3.11/dist-packages (from nipype->fitz) (2.8.2)\n",
            "Collecting rdflib>=5.0.0 (from nipype->fitz)\n",
            "  Downloading rdflib-7.1.3-py3-none-any.whl.metadata (11 kB)\n",
            "Requirement already satisfied: simplejson>=3.8.0 in /usr/local/lib/python3.11/dist-packages (from nipype->fitz) (3.20.1)\n",
            "Collecting traits>=6.2 (from nipype->fitz)\n",
            "  Downloading traits-7.0.2-cp311-cp311-manylinux_2_5_x86_64.manylinux1_x86_64.manylinux_2_17_x86_64.manylinux2014_x86_64.whl.metadata (4.8 kB)\n",
            "Collecting acres (from nipype->fitz)\n",
            "  Downloading acres-0.3.0-py3-none-any.whl.metadata (5.5 kB)\n",
            "Collecting etelemetry>=0.3.1 (from nipype->fitz)\n",
            "  Downloading etelemetry-0.3.1-py3-none-any.whl.metadata (3.2 kB)\n",
            "Collecting looseversion!=1.2 (from nipype->fitz)\n",
            "  Downloading looseversion-1.3.0-py2.py3-none-any.whl.metadata (4.6 kB)\n",
            "Collecting puremagic (from nipype->fitz)\n",
            "  Downloading puremagic-1.28-py3-none-any.whl.metadata (5.8 kB)\n",
            "Requirement already satisfied: pytz>=2020.1 in /usr/local/lib/python3.11/dist-packages (from pandas->fitz) (2025.1)\n",
            "Requirement already satisfied: tzdata>=2022.7 in /usr/local/lib/python3.11/dist-packages (from pandas->fitz) (2025.1)\n",
            "Requirement already satisfied: pathlib>=1.0 in /usr/local/lib/python3.11/dist-packages (from pyxnat->fitz) (1.0.1)\n",
            "Requirement already satisfied: idna<4,>=2.5 in /usr/local/lib/python3.11/dist-packages (from requests->paddleocr) (3.10)\n",
            "Requirement already satisfied: urllib3<3,>=1.21.1 in /usr/local/lib/python3.11/dist-packages (from requests->paddleocr) (2.3.0)\n",
            "Requirement already satisfied: certifi>=2017.4.17 in /usr/local/lib/python3.11/dist-packages (from requests->paddleocr) (2025.1.31)\n",
            "Requirement already satisfied: cffi>=1.12 in /usr/local/lib/python3.11/dist-packages (from cryptography>=36.0.0->pdfminer.six==20231228->pdfplumber) (1.17.1)\n",
            "Collecting ci-info>=0.2 (from etelemetry>=0.3.1->nipype->fitz)\n",
            "  Downloading ci_info-0.3.0-py3-none-any.whl.metadata (6.1 kB)\n",
            "Collecting rdflib>=5.0.0 (from nipype->fitz)\n",
            "  Downloading rdflib-6.3.2-py3-none-any.whl.metadata (11 kB)\n",
            "Collecting isodate<0.7.0,>=0.6.0 (from rdflib>=5.0.0->nipype->fitz)\n",
            "  Downloading isodate-0.6.1-py2.py3-none-any.whl.metadata (9.6 kB)\n",
            "Requirement already satisfied: joblib>=1.2.0 in /usr/local/lib/python3.11/dist-packages (from scikit-learn>=1.3.2->albumentations->paddleocr) (1.4.2)\n",
            "Requirement already satisfied: threadpoolctl>=3.1.0 in /usr/local/lib/python3.11/dist-packages (from scikit-learn>=1.3.2->albumentations->paddleocr) (3.6.0)\n",
            "Requirement already satisfied: contourpy>=1.0.1 in /usr/local/lib/python3.11/dist-packages (from matplotlib->imgaug==0.4.0->vietocr) (1.3.1)\n",
            "Requirement already satisfied: cycler>=0.10 in /usr/local/lib/python3.11/dist-packages (from matplotlib->imgaug==0.4.0->vietocr) (0.12.1)\n",
            "Requirement already satisfied: kiwisolver>=1.3.1 in /usr/local/lib/python3.11/dist-packages (from matplotlib->imgaug==0.4.0->vietocr) (1.4.8)\n",
            "Requirement already satisfied: PySocks!=1.5.7,>=1.5.6 in /usr/local/lib/python3.11/dist-packages (from requests[socks]->gdown==4.4.0->vietocr) (1.7.1)\n",
            "Requirement already satisfied: pycparser in /usr/local/lib/python3.11/dist-packages (from cffi>=1.12->cryptography>=36.0.0->pdfminer.six==20231228->pdfplumber) (2.22)\n",
            "Downloading paddleocr-2.10.0-py3-none-any.whl (2.4 MB)\n",
            "\u001b[2K   \u001b[90m━━━━━━━━━━━━━━━━━━━━━━━━━━━━━━━━━━━━━━━━\u001b[0m \u001b[32m2.4/2.4 MB\u001b[0m \u001b[31m73.2 MB/s\u001b[0m eta \u001b[36m0:00:00\u001b[0m\n",
            "\u001b[?25hDownloading vietocr-0.3.13-py3-none-any.whl (34 kB)\n",
            "Downloading albumentations-1.4.2-py3-none-any.whl (133 kB)\n",
            "\u001b[2K   \u001b[90m━━━━━━━━━━━━━━━━━━━━━━━━━━━━━━━━━━━━━━━━\u001b[0m \u001b[32m133.9/133.9 kB\u001b[0m \u001b[31m12.6 MB/s\u001b[0m eta \u001b[36m0:00:00\u001b[0m\n",
            "\u001b[?25hDownloading einops-0.2.0-py2.py3-none-any.whl (18 kB)\n",
            "Downloading imgaug-0.4.0-py2.py3-none-any.whl (948 kB)\n",
            "\u001b[2K   \u001b[90m━━━━━━━━━━━━━━━━━━━━━━━━━━━━━━━━━━━━━━━━\u001b[0m \u001b[32m948.0/948.0 kB\u001b[0m \u001b[31m54.0 MB/s\u001b[0m eta \u001b[36m0:00:00\u001b[0m\n",
            "\u001b[?25hDownloading pillow-10.2.0-cp311-cp311-manylinux_2_28_x86_64.whl (4.5 MB)\n",
            "\u001b[2K   \u001b[90m━━━━━━━━━━━━━━━━━━━━━━━━━━━━━━━━━━━━━━━━\u001b[0m \u001b[32m4.5/4.5 MB\u001b[0m \u001b[31m87.4 MB/s\u001b[0m eta \u001b[36m0:00:00\u001b[0m\n",
            "\u001b[?25hDownloading fitz-0.0.1.dev2-py2.py3-none-any.whl (20 kB)\n",
            "Downloading lmdb-1.6.2-cp311-cp311-manylinux_2_17_x86_64.manylinux2014_x86_64.whl (297 kB)\n",
            "\u001b[2K   \u001b[90m━━━━━━━━━━━━━━━━━━━━━━━━━━━━━━━━━━━━━━━━\u001b[0m \u001b[32m297.8/297.8 kB\u001b[0m \u001b[31m23.4 MB/s\u001b[0m eta \u001b[36m0:00:00\u001b[0m\n",
            "\u001b[?25hDownloading configobj-5.0.9-py2.py3-none-any.whl (35 kB)\n",
            "Downloading configparser-7.2.0-py3-none-any.whl (17 kB)\n",
            "Downloading nipype-1.10.0-py3-none-any.whl (3.2 MB)\n",
            "\u001b[2K   \u001b[90m━━━━━━━━━━━━━━━━━━━━━━━━━━━━━━━━━━━━━━━━\u001b[0m \u001b[32m3.2/3.2 MB\u001b[0m \u001b[31m81.8 MB/s\u001b[0m eta \u001b[36m0:00:00\u001b[0m\n",
            "\u001b[?25hDownloading pyclipper-1.3.0.post6-cp311-cp311-manylinux_2_17_x86_64.manylinux2014_x86_64.whl (969 kB)\n",
            "\u001b[2K   \u001b[90m━━━━━━━━━━━━━━━━━━━━━━━━━━━━━━━━━━━━━━━━\u001b[0m \u001b[32m969.6/969.6 kB\u001b[0m \u001b[31m49.5 MB/s\u001b[0m eta \u001b[36m0:00:00\u001b[0m\n",
            "\u001b[?25hDownloading pyxnat-1.6.3-py3-none-any.whl (95 kB)\n",
            "\u001b[2K   \u001b[90m━━━━━━━━━━━━━━━━━━━━━━━━━━━━━━━━━━━━━━━━\u001b[0m \u001b[32m95.4/95.4 kB\u001b[0m \u001b[31m7.9 MB/s\u001b[0m eta \u001b[36m0:00:00\u001b[0m\n",
            "\u001b[?25hDownloading rapidfuzz-3.12.2-cp311-cp311-manylinux_2_17_x86_64.manylinux2014_x86_64.whl (3.1 MB)\n",
            "\u001b[2K   \u001b[90m━━━━━━━━━━━━━━━━━━━━━━━━━━━━━━━━━━━━━━━━\u001b[0m \u001b[32m3.1/3.1 MB\u001b[0m \u001b[31m85.1 MB/s\u001b[0m eta \u001b[36m0:00:00\u001b[0m\n",
            "\u001b[?25hDownloading etelemetry-0.3.1-py3-none-any.whl (6.4 kB)\n",
            "Downloading looseversion-1.3.0-py2.py3-none-any.whl (8.2 kB)\n",
            "Downloading prov-2.0.1-py3-none-any.whl (421 kB)\n",
            "\u001b[2K   \u001b[90m━━━━━━━━━━━━━━━━━━━━━━━━━━━━━━━━━━━━━━━━\u001b[0m \u001b[32m421.5/421.5 kB\u001b[0m \u001b[31m27.8 MB/s\u001b[0m eta \u001b[36m0:00:00\u001b[0m\n",
            "\u001b[?25hDownloading rdflib-6.3.2-py3-none-any.whl (528 kB)\n",
            "\u001b[2K   \u001b[90m━━━━━━━━━━━━━━━━━━━━━━━━━━━━━━━━━━━━━━━━\u001b[0m \u001b[32m528.1/528.1 kB\u001b[0m \u001b[31m33.3 MB/s\u001b[0m eta \u001b[36m0:00:00\u001b[0m\n",
            "\u001b[?25hDownloading traits-7.0.2-cp311-cp311-manylinux_2_5_x86_64.manylinux1_x86_64.manylinux_2_17_x86_64.manylinux2014_x86_64.whl (5.1 MB)\n",
            "\u001b[2K   \u001b[90m━━━━━━━━━━━━━━━━━━━━━━━━━━━━━━━━━━━━━━━━\u001b[0m \u001b[32m5.1/5.1 MB\u001b[0m \u001b[31m93.3 MB/s\u001b[0m eta \u001b[36m0:00:00\u001b[0m\n",
            "\u001b[?25hDownloading acres-0.3.0-py3-none-any.whl (10 kB)\n",
            "Downloading puremagic-1.28-py3-none-any.whl (43 kB)\n",
            "\u001b[2K   \u001b[90m━━━━━━━━━━━━━━━━━━━━━━━━━━━━━━━━━━━━━━━━\u001b[0m \u001b[32m43.2/43.2 kB\u001b[0m \u001b[31m3.4 MB/s\u001b[0m eta \u001b[36m0:00:00\u001b[0m\n",
            "\u001b[?25hDownloading ci_info-0.3.0-py3-none-any.whl (7.8 kB)\n",
            "Downloading isodate-0.6.1-py2.py3-none-any.whl (41 kB)\n",
            "\u001b[2K   \u001b[90m━━━━━━━━━━━━━━━━━━━━━━━━━━━━━━━━━━━━━━━━\u001b[0m \u001b[32m41.7/41.7 kB\u001b[0m \u001b[31m3.2 MB/s\u001b[0m eta \u001b[36m0:00:00\u001b[0m\n",
            "\u001b[?25hBuilding wheels for collected packages: docx, gdown, prefetch-generator, fire\n",
            "  Building wheel for docx (setup.py) ... \u001b[?25l\u001b[?25hdone\n",
            "  Created wheel for docx: filename=docx-0.2.4-py3-none-any.whl size=53892 sha256=d5559b91b2668ab31e2c7202548d2526d5b5ab025f242b846661f9b3eeb43b45\n",
            "  Stored in directory: /root/.cache/pip/wheels/c1/3e/c3/e81c11effd0be5658a035947c66792dd993bcff317eae0e1ed\n",
            "  Building wheel for gdown (pyproject.toml) ... \u001b[?25l\u001b[?25hdone\n",
            "  Created wheel for gdown: filename=gdown-4.4.0-py3-none-any.whl size=14844 sha256=8658987a65d6ecf1807ac0ae798f608ff0aaabe26d5fcc28cb9ff180a7996f31\n",
            "  Stored in directory: /root/.cache/pip/wheels/04/17/f7/f9585b8ed11a19d05b50f0ab33aa6635a5179241b92982ab27\n",
            "  Building wheel for prefetch-generator (setup.py) ... \u001b[?25l\u001b[?25hdone\n",
            "  Created wheel for prefetch-generator: filename=prefetch_generator-1.0.1-py3-none-any.whl size=3941 sha256=a0b6237abf6252851c159bf1bc11808a977205ad740f88bbe24808e3f6120392\n",
            "  Stored in directory: /root/.cache/pip/wheels/8b/24/c0/c552730f6b36b3dfca27ebea2b16c34d144574f8373f4a9d45\n",
            "  Building wheel for fire (setup.py) ... \u001b[?25l\u001b[?25hdone\n",
            "  Created wheel for fire: filename=fire-0.7.0-py3-none-any.whl size=114249 sha256=1debfa03aabf68f4db4aa6ed591e88fc47dea117d973fde5a6d9b8ce266677a6\n",
            "  Stored in directory: /root/.cache/pip/wheels/46/54/24/1624fd5b8674eb1188623f7e8e17cdf7c0f6c24b609dfb8a89\n",
            "Successfully built docx gdown prefetch-generator fire\n",
            "Installing collected packages: pyclipper, puremagic, prefetch-generator, looseversion, lmdb, einops, traits, rapidfuzz, Pillow, isodate, fire, configparser, configobj, ci-info, acres, rdflib, pyxnat, etelemetry, docx, prov, gdown, nipype, imgaug, albumentations, vietocr, paddleocr, fitz\n",
            "  Attempting uninstall: einops\n",
            "    Found existing installation: einops 0.8.1\n",
            "    Uninstalling einops-0.8.1:\n",
            "      Successfully uninstalled einops-0.8.1\n",
            "  Attempting uninstall: Pillow\n",
            "    Found existing installation: pillow 11.1.0\n",
            "    Uninstalling pillow-11.1.0:\n",
            "      Successfully uninstalled pillow-11.1.0\n",
            "  Attempting uninstall: gdown\n",
            "    Found existing installation: gdown 5.2.0\n",
            "    Uninstalling gdown-5.2.0:\n",
            "      Successfully uninstalled gdown-5.2.0\n",
            "  Attempting uninstall: albumentations\n",
            "    Found existing installation: albumentations 2.0.5\n",
            "    Uninstalling albumentations-2.0.5:\n",
            "      Successfully uninstalled albumentations-2.0.5\n",
            "Successfully installed Pillow-10.2.0 acres-0.3.0 albumentations-1.4.2 ci-info-0.3.0 configobj-5.0.9 configparser-7.2.0 docx-0.2.4 einops-0.2.0 etelemetry-0.3.1 fire-0.7.0 fitz-0.0.1.dev2 gdown-4.4.0 imgaug-0.4.0 isodate-0.6.1 lmdb-1.6.2 looseversion-1.3.0 nipype-1.10.0 paddleocr-2.10.0 prefetch-generator-1.0.1 prov-2.0.1 puremagic-1.28 pyclipper-1.3.0.post6 pyxnat-1.6.3 rapidfuzz-3.12.2 rdflib-6.3.2 traits-7.0.2 vietocr-0.3.13\n"
          ]
        },
        {
          "output_type": "display_data",
          "data": {
            "application/vnd.colab-display-data+json": {
              "pip_warning": {
                "packages": [
                  "PIL"
                ]
              },
              "id": "6bc95840043a493ebed82fd81c578c9c"
            }
          },
          "metadata": {}
        }
      ]
    },
    {
      "cell_type": "code",
      "source": [
        "!pip install PyMuPDF paddlepaddle-gpu"
      ],
      "metadata": {
        "colab": {
          "base_uri": "https://localhost:8080/"
        },
        "id": "eqlCkgbbHTvi",
        "outputId": "3a184e6a-eda6-479f-a33f-59af5b875a2c"
      },
      "execution_count": null,
      "outputs": [
        {
          "output_type": "stream",
          "name": "stdout",
          "text": [
            "Collecting PyMuPDF\n",
            "  Using cached pymupdf-1.25.4-cp39-abi3-manylinux2014_x86_64.manylinux_2_17_x86_64.whl.metadata (3.4 kB)\n",
            "Collecting paddlepaddle-gpu\n",
            "  Using cached paddlepaddle_gpu-2.6.2-cp311-cp311-manylinux1_x86_64.whl.metadata (8.6 kB)\n",
            "Requirement already satisfied: httpx in /usr/local/lib/python3.11/dist-packages (from paddlepaddle-gpu) (0.28.1)\n",
            "Requirement already satisfied: numpy>=1.13 in /usr/local/lib/python3.11/dist-packages (from paddlepaddle-gpu) (2.0.2)\n",
            "Requirement already satisfied: Pillow in /usr/local/lib/python3.11/dist-packages (from paddlepaddle-gpu) (10.2.0)\n",
            "Requirement already satisfied: decorator in /usr/local/lib/python3.11/dist-packages (from paddlepaddle-gpu) (4.4.2)\n",
            "Collecting astor (from paddlepaddle-gpu)\n",
            "  Using cached astor-0.8.1-py2.py3-none-any.whl.metadata (4.2 kB)\n",
            "Collecting opt-einsum==3.3.0 (from paddlepaddle-gpu)\n",
            "  Using cached opt_einsum-3.3.0-py3-none-any.whl.metadata (6.5 kB)\n",
            "Requirement already satisfied: protobuf>=3.20.2 in /usr/local/lib/python3.11/dist-packages (from paddlepaddle-gpu) (5.29.3)\n",
            "Requirement already satisfied: anyio in /usr/local/lib/python3.11/dist-packages (from httpx->paddlepaddle-gpu) (4.9.0)\n",
            "Requirement already satisfied: certifi in /usr/local/lib/python3.11/dist-packages (from httpx->paddlepaddle-gpu) (2025.1.31)\n",
            "Requirement already satisfied: httpcore==1.* in /usr/local/lib/python3.11/dist-packages (from httpx->paddlepaddle-gpu) (1.0.7)\n",
            "Requirement already satisfied: idna in /usr/local/lib/python3.11/dist-packages (from httpx->paddlepaddle-gpu) (3.10)\n",
            "Requirement already satisfied: h11<0.15,>=0.13 in /usr/local/lib/python3.11/dist-packages (from httpcore==1.*->httpx->paddlepaddle-gpu) (0.14.0)\n",
            "Requirement already satisfied: sniffio>=1.1 in /usr/local/lib/python3.11/dist-packages (from anyio->httpx->paddlepaddle-gpu) (1.3.1)\n",
            "Requirement already satisfied: typing_extensions>=4.5 in /usr/local/lib/python3.11/dist-packages (from anyio->httpx->paddlepaddle-gpu) (4.12.2)\n",
            "Using cached pymupdf-1.25.4-cp39-abi3-manylinux2014_x86_64.manylinux_2_17_x86_64.whl (20.0 MB)\n",
            "Downloading paddlepaddle_gpu-2.6.2-cp311-cp311-manylinux1_x86_64.whl (759.0 MB)\n",
            "\u001b[2K   \u001b[90m━━━━━━━━━━━━━━━━━━━━━━━━━━━━━━━━━━━━━━━━\u001b[0m \u001b[32m759.0/759.0 MB\u001b[0m \u001b[31m1.3 MB/s\u001b[0m eta \u001b[36m0:00:00\u001b[0m\n",
            "\u001b[?25hDownloading opt_einsum-3.3.0-py3-none-any.whl (65 kB)\n",
            "\u001b[2K   \u001b[90m━━━━━━━━━━━━━━━━━━━━━━━━━━━━━━━━━━━━━━━━\u001b[0m \u001b[32m65.5/65.5 kB\u001b[0m \u001b[31m5.4 MB/s\u001b[0m eta \u001b[36m0:00:00\u001b[0m\n",
            "\u001b[?25hDownloading astor-0.8.1-py2.py3-none-any.whl (27 kB)\n",
            "Installing collected packages: PyMuPDF, opt-einsum, astor, paddlepaddle-gpu\n",
            "  Attempting uninstall: opt-einsum\n",
            "    Found existing installation: opt_einsum 3.4.0\n",
            "    Uninstalling opt_einsum-3.4.0:\n",
            "      Successfully uninstalled opt_einsum-3.4.0\n",
            "Successfully installed PyMuPDF-1.25.4 astor-0.8.1 opt-einsum-3.3.0 paddlepaddle-gpu-2.6.2\n"
          ]
        }
      ]
    },
    {
      "cell_type": "code",
      "source": [
        "import os\n",
        "import cv2\n",
        "import docx\n",
        "import pdfplumber\n",
        "import chardet\n",
        "import pytesseract\n",
        "import fitz  # PyMuPDF\n",
        "from pathlib import Path\n",
        "from PIL import Image\n",
        "from paddleocr import PaddleOCR\n",
        "from vietocr.tool.predictor import Predictor\n",
        "from vietocr.tool.config import Cfg\n",
        "\n",
        "# Initialize OCR models\n",
        "paddle_ocr = PaddleOCR(use_angle_cls=True, lang='en')\n",
        "config = Cfg.load_config_from_name('vgg_transformer')\n",
        "vietocr_detector = Predictor(config)\n"
      ],
      "metadata": {
        "colab": {
          "base_uri": "https://localhost:8080/"
        },
        "id": "CtgbyNFkGu5k",
        "outputId": "40ac9a39-8b92-4a24-dcbd-f5bf000f03f9"
      },
      "execution_count": null,
      "outputs": [
        {
          "output_type": "stream",
          "name": "stdout",
          "text": [
            "download https://paddleocr.bj.bcebos.com/PP-OCRv3/english/en_PP-OCRv3_det_infer.tar to /root/.paddleocr/whl/det/en/en_PP-OCRv3_det_infer/en_PP-OCRv3_det_infer.tar\n"
          ]
        },
        {
          "output_type": "stream",
          "name": "stderr",
          "text": [
            "100%|██████████| 3910/3910 [00:00<00:00, 5027.18it/s]\n"
          ]
        },
        {
          "output_type": "stream",
          "name": "stdout",
          "text": [
            "download https://paddleocr.bj.bcebos.com/PP-OCRv4/english/en_PP-OCRv4_rec_infer.tar to /root/.paddleocr/whl/rec/en/en_PP-OCRv4_rec_infer/en_PP-OCRv4_rec_infer.tar\n"
          ]
        },
        {
          "output_type": "stream",
          "name": "stderr",
          "text": [
            "100%|██████████| 10000/10000 [00:00<00:00, 10304.16it/s]\n"
          ]
        },
        {
          "output_type": "stream",
          "name": "stdout",
          "text": [
            "download https://paddleocr.bj.bcebos.com/dygraph_v2.0/ch/ch_ppocr_mobile_v2.0_cls_infer.tar to /root/.paddleocr/whl/cls/ch_ppocr_mobile_v2.0_cls_infer/ch_ppocr_mobile_v2.0_cls_infer.tar\n"
          ]
        },
        {
          "output_type": "stream",
          "name": "stderr",
          "text": [
            "100%|██████████| 2138/2138 [00:00<00:00, 3187.28it/s]\n"
          ]
        },
        {
          "output_type": "stream",
          "name": "stdout",
          "text": [
            "[2025/03/24 04:14:55] ppocr DEBUG: Namespace(help='==SUPPRESS==', use_gpu=True, use_xpu=False, use_npu=False, use_mlu=False, use_gcu=False, ir_optim=True, use_tensorrt=False, min_subgraph_size=15, precision='fp32', gpu_mem=500, gpu_id=0, image_dir=None, page_num=0, det_algorithm='DB', det_model_dir='/root/.paddleocr/whl/det/en/en_PP-OCRv3_det_infer', det_limit_side_len=960, det_limit_type='max', det_box_type='quad', det_db_thresh=0.3, det_db_box_thresh=0.6, det_db_unclip_ratio=1.5, max_batch_size=10, use_dilation=False, det_db_score_mode='fast', det_east_score_thresh=0.8, det_east_cover_thresh=0.1, det_east_nms_thresh=0.2, det_sast_score_thresh=0.5, det_sast_nms_thresh=0.2, det_pse_thresh=0, det_pse_box_thresh=0.85, det_pse_min_area=16, det_pse_scale=1, scales=[8, 16, 32], alpha=1.0, beta=1.0, fourier_degree=5, rec_algorithm='SVTR_LCNet', rec_model_dir='/root/.paddleocr/whl/rec/en/en_PP-OCRv4_rec_infer', rec_image_inverse=True, rec_image_shape='3, 48, 320', rec_batch_num=6, max_text_length=25, rec_char_dict_path='/usr/local/lib/python3.11/dist-packages/paddleocr/ppocr/utils/en_dict.txt', use_space_char=True, vis_font_path='./doc/fonts/simfang.ttf', drop_score=0.5, e2e_algorithm='PGNet', e2e_model_dir=None, e2e_limit_side_len=768, e2e_limit_type='max', e2e_pgnet_score_thresh=0.5, e2e_char_dict_path='./ppocr/utils/ic15_dict.txt', e2e_pgnet_valid_set='totaltext', e2e_pgnet_mode='fast', use_angle_cls=True, cls_model_dir='/root/.paddleocr/whl/cls/ch_ppocr_mobile_v2.0_cls_infer', cls_image_shape='3, 48, 192', label_list=['0', '180'], cls_batch_num=6, cls_thresh=0.9, enable_mkldnn=False, cpu_threads=10, use_pdserving=False, warmup=False, sr_model_dir=None, sr_image_shape='3, 32, 128', sr_batch_num=1, draw_img_save_dir='./inference_results', save_crop_res=False, crop_res_save_dir='./output', use_mp=False, total_process_num=1, process_id=0, benchmark=False, save_log_path='./log_output/', show_log=True, use_onnx=False, onnx_providers=False, onnx_sess_options=False, return_word_box=False, output='./output', table_max_len=488, table_algorithm='TableAttn', table_model_dir=None, merge_no_span_structure=True, table_char_dict_path=None, formula_algorithm='LaTeXOCR', formula_model_dir=None, formula_char_dict_path=None, formula_batch_num=1, layout_model_dir=None, layout_dict_path=None, layout_score_threshold=0.5, layout_nms_threshold=0.5, kie_algorithm='LayoutXLM', ser_model_dir=None, re_model_dir=None, use_visual_backbone=True, ser_dict_path='../train_data/XFUND/class_list_xfun.txt', ocr_order_method=None, mode='structure', image_orientation=False, layout=True, table=True, formula=False, ocr=True, recovery=False, recovery_to_markdown=False, use_pdf2docx_api=False, invert=False, binarize=False, alphacolor=(255, 255, 255), lang='en', det=True, rec=True, type='ocr', savefile=False, ocr_version='PP-OCRv4', structure_version='PP-StructureV2')\n",
            "[2025/03/24 04:14:55] ppocr WARNING: The first GPU is used for inference by default, GPU ID: 0\n",
            "[2025/03/24 04:14:57] ppocr WARNING: The first GPU is used for inference by default, GPU ID: 0\n",
            "[2025/03/24 04:14:58] ppocr WARNING: The first GPU is used for inference by default, GPU ID: 0\n"
          ]
        },
        {
          "output_type": "stream",
          "name": "stderr",
          "text": [
            "Downloading: \"https://download.pytorch.org/models/vgg19_bn-c79401a0.pth\" to /root/.cache/torch/hub/checkpoints/vgg19_bn-c79401a0.pth\n",
            "100%|██████████| 548M/548M [00:07<00:00, 77.8MB/s]\n",
            "18533it [00:02, 7938.64it/s] \n"
          ]
        }
      ]
    },
    {
      "cell_type": "code",
      "execution_count": null,
      "metadata": {
        "colab": {
          "base_uri": "https://localhost:8080/"
        },
        "id": "HwaRKzHDjv_g",
        "outputId": "ef406eb9-5ee3-4c24-ea53-9bae7203feb9"
      },
      "outputs": [
        {
          "output_type": "stream",
          "name": "stdout",
          "text": [
            "Detected corrupted text. Attempting re-encoding...\n",
            "Alert: Extracted text still appears corrupted. Applying OCR as fallback.\n",
            "[2025/03/24 04:16:23] ppocr DEBUG: dt_boxes num : 44, elapsed : 1.4050283432006836\n",
            "[2025/03/24 04:16:23] ppocr DEBUG: cls num  : 44, elapsed : 0.25501346588134766\n",
            "[2025/03/24 04:16:24] ppocr DEBUG: rec_res num  : 44, elapsed : 0.4977874755859375\n",
            "[2025/03/24 04:16:46] ppocr DEBUG: dt_boxes num : 40, elapsed : 0.04630255699157715\n",
            "[2025/03/24 04:16:47] ppocr DEBUG: cls num  : 40, elapsed : 0.4352076053619385\n",
            "[2025/03/24 04:16:47] ppocr DEBUG: rec_res num  : 40, elapsed : 0.3444395065307617\n",
            "[2025/03/24 04:17:11] ppocr DEBUG: dt_boxes num : 40, elapsed : 0.04473686218261719\n",
            "[2025/03/24 04:17:11] ppocr DEBUG: cls num  : 40, elapsed : 0.14951324462890625\n",
            "[2025/03/24 04:17:11] ppocr DEBUG: rec_res num  : 40, elapsed : 0.3135838508605957\n",
            "[2025/03/24 04:17:30] ppocr DEBUG: dt_boxes num : 40, elapsed : 0.06058454513549805\n",
            "[2025/03/24 04:17:30] ppocr DEBUG: cls num  : 40, elapsed : 0.08156371116638184\n",
            "[2025/03/24 04:17:30] ppocr DEBUG: rec_res num  : 40, elapsed : 0.36829543113708496\n",
            "[2025/03/24 04:17:51] ppocr DEBUG: dt_boxes num : 41, elapsed : 0.04307389259338379\n",
            "[2025/03/24 04:17:51] ppocr DEBUG: cls num  : 41, elapsed : 0.07421040534973145\n",
            "[2025/03/24 04:17:52] ppocr DEBUG: rec_res num  : 41, elapsed : 0.3461422920227051\n",
            "[2025/03/24 04:18:13] ppocr DEBUG: dt_boxes num : 38, elapsed : 0.041936635971069336\n",
            "[2025/03/24 04:18:13] ppocr DEBUG: cls num  : 38, elapsed : 0.0646827220916748\n",
            "[2025/03/24 04:18:13] ppocr DEBUG: rec_res num  : 38, elapsed : 0.30957937240600586\n",
            "[2025/03/24 04:18:33] ppocr DEBUG: dt_boxes num : 39, elapsed : 0.042624473571777344\n",
            "[2025/03/24 04:18:33] ppocr DEBUG: cls num  : 39, elapsed : 0.08876204490661621\n",
            "[2025/03/24 04:18:33] ppocr DEBUG: rec_res num  : 39, elapsed : 0.34198427200317383\n",
            "[2025/03/24 04:18:53] ppocr DEBUG: dt_boxes num : 42, elapsed : 0.04754495620727539\n",
            "[2025/03/24 04:18:53] ppocr DEBUG: cls num  : 42, elapsed : 0.06626129150390625\n",
            "[2025/03/24 04:18:54] ppocr DEBUG: rec_res num  : 42, elapsed : 0.38357973098754883\n",
            "[2025/03/24 04:19:18] ppocr DEBUG: dt_boxes num : 41, elapsed : 0.04353666305541992\n",
            "[2025/03/24 04:19:19] ppocr DEBUG: cls num  : 41, elapsed : 0.1077263355255127\n",
            "[2025/03/24 04:19:19] ppocr DEBUG: rec_res num  : 41, elapsed : 0.33383965492248535\n",
            "[2025/03/24 04:19:40] ppocr DEBUG: dt_boxes num : 38, elapsed : 0.04099106788635254\n",
            "[2025/03/24 04:19:40] ppocr DEBUG: cls num  : 38, elapsed : 0.06064558029174805\n",
            "[2025/03/24 04:19:40] ppocr DEBUG: rec_res num  : 38, elapsed : 0.30280303955078125\n",
            "[2025/03/24 04:19:57] ppocr DEBUG: dt_boxes num : 40, elapsed : 0.06343698501586914\n",
            "[2025/03/24 04:19:57] ppocr DEBUG: cls num  : 40, elapsed : 0.07810187339782715\n",
            "[2025/03/24 04:19:58] ppocr DEBUG: rec_res num  : 40, elapsed : 0.3641536235809326\n",
            "[2025/03/24 04:20:18] ppocr DEBUG: dt_boxes num : 38, elapsed : 0.04183030128479004\n",
            "[2025/03/24 04:20:18] ppocr DEBUG: cls num  : 38, elapsed : 0.06977462768554688\n",
            "[2025/03/24 04:20:18] ppocr DEBUG: rec_res num  : 38, elapsed : 0.30077266693115234\n",
            "[2025/03/24 04:20:34] ppocr DEBUG: dt_boxes num : 49, elapsed : 0.07610726356506348\n",
            "[2025/03/24 04:20:35] ppocr DEBUG: cls num  : 49, elapsed : 0.15049123764038086\n",
            "[2025/03/24 04:20:35] ppocr DEBUG: rec_res num  : 49, elapsed : 0.38110899925231934\n",
            "[2025/03/24 04:20:53] ppocr DEBUG: dt_boxes num : 41, elapsed : 0.04370260238647461\n",
            "[2025/03/24 04:20:53] ppocr DEBUG: cls num  : 41, elapsed : 0.0684194564819336\n",
            "[2025/03/24 04:20:53] ppocr DEBUG: rec_res num  : 41, elapsed : 0.31649136543273926\n",
            "[2025/03/24 04:21:12] ppocr DEBUG: dt_boxes num : 52, elapsed : 0.08337521553039551\n",
            "[2025/03/24 04:21:12] ppocr DEBUG: cls num  : 52, elapsed : 0.12035703659057617\n",
            "[2025/03/24 04:21:13] ppocr DEBUG: rec_res num  : 52, elapsed : 0.40759873390197754\n",
            "[2025/03/24 04:21:34] ppocr DEBUG: dt_boxes num : 115, elapsed : 0.06820034980773926\n",
            "[2025/03/24 04:21:35] ppocr DEBUG: cls num  : 115, elapsed : 0.2805788516998291\n",
            "[2025/03/24 04:21:35] ppocr DEBUG: rec_res num  : 115, elapsed : 0.4578518867492676\n",
            "[2025/03/24 04:21:48] ppocr DEBUG: dt_boxes num : 104, elapsed : 0.10001349449157715\n",
            "[2025/03/24 04:21:48] ppocr DEBUG: cls num  : 104, elapsed : 0.20467209815979004\n",
            "[2025/03/24 04:21:49] ppocr DEBUG: rec_res num  : 104, elapsed : 0.40560436248779297\n",
            "[2025/03/24 04:21:59] ppocr DEBUG: dt_boxes num : 60, elapsed : 0.050455570220947266\n",
            "[2025/03/24 04:21:59] ppocr DEBUG: cls num  : 60, elapsed : 0.09909200668334961\n",
            "[2025/03/24 04:21:59] ppocr DEBUG: rec_res num  : 60, elapsed : 0.30421996116638184\n",
            "[2025/03/24 04:22:13] ppocr DEBUG: dt_boxes num : 51, elapsed : 0.06631016731262207\n",
            "[2025/03/24 04:22:13] ppocr DEBUG: cls num  : 51, elapsed : 0.1480545997619629\n",
            "[2025/03/24 04:22:13] ppocr DEBUG: rec_res num  : 51, elapsed : 0.29074764251708984\n",
            "[2025/03/24 04:22:24] ppocr DEBUG: dt_boxes num : 56, elapsed : 0.047994375228881836\n",
            "[2025/03/24 04:22:24] ppocr DEBUG: cls num  : 56, elapsed : 0.09971785545349121\n",
            "[2025/03/24 04:22:24] ppocr DEBUG: rec_res num  : 56, elapsed : 0.3096625804901123\n",
            "[2025/03/24 04:22:36] ppocr DEBUG: dt_boxes num : 60, elapsed : 0.06112504005432129\n",
            "[2025/03/24 04:22:36] ppocr DEBUG: cls num  : 60, elapsed : 0.09854412078857422\n",
            "[2025/03/24 04:22:36] ppocr DEBUG: rec_res num  : 60, elapsed : 0.23410367965698242\n",
            "[2025/03/24 04:22:42] ppocr DEBUG: dt_boxes num : 62, elapsed : 0.049126625061035156\n",
            "[2025/03/24 04:22:43] ppocr DEBUG: cls num  : 62, elapsed : 0.21356773376464844\n",
            "[2025/03/24 04:22:43] ppocr DEBUG: rec_res num  : 62, elapsed : 0.2758915424346924\n",
            "[2025/03/24 04:22:51] ppocr DEBUG: dt_boxes num : 76, elapsed : 0.051157236099243164\n",
            "[2025/03/24 04:22:51] ppocr DEBUG: cls num  : 76, elapsed : 0.24697041511535645\n",
            "[2025/03/24 04:22:52] ppocr DEBUG: rec_res num  : 76, elapsed : 0.23210382461547852\n",
            "[2025/03/24 04:22:59] ppocr DEBUG: dt_boxes num : 52, elapsed : 0.06090211868286133\n",
            "[2025/03/24 04:22:59] ppocr DEBUG: cls num  : 52, elapsed : 0.08010745048522949\n",
            "[2025/03/24 04:22:59] ppocr DEBUG: rec_res num  : 52, elapsed : 0.22669053077697754\n",
            "[2025/03/24 04:23:05] ppocr DEBUG: dt_boxes num : 88, elapsed : 0.05257272720336914\n",
            "[2025/03/24 04:23:05] ppocr DEBUG: cls num  : 88, elapsed : 0.13022780418395996\n",
            "[2025/03/24 04:23:05] ppocr DEBUG: rec_res num  : 88, elapsed : 0.31804585456848145\n",
            "OCR process completed! Extracted text saved to 'final_extracted_text.txt'\n"
          ]
        }
      ],
      "source": [
        "def detect_encoding(file_path):\n",
        "    \"\"\"Detect encoding of a text file.\"\"\"\n",
        "    with open(file_path, 'rb') as f:\n",
        "        raw_data = f.read()\n",
        "        result = chardet.detect(raw_data)\n",
        "    return result['encoding']\n",
        "\n",
        "\n",
        "def extract_text_from_docx(doc_path):\n",
        "    \"\"\"Extract text from DOCX files.\"\"\"\n",
        "    try:\n",
        "        doc = docx.Document(doc_path)\n",
        "        return '\\n'.join([para.text for para in doc.paragraphs])\n",
        "    except Exception as e:\n",
        "        print(f\"Error extracting DOCX text: {e}\")\n",
        "        return None\n",
        "\n",
        "\n",
        "def extract_text_from_pdf(pdf_path):\n",
        "    \"\"\"Extract text from PDFs using pdfplumber.\"\"\"\n",
        "    try:\n",
        "        text = \"\"\n",
        "        with pdfplumber.open(pdf_path) as pdf:\n",
        "            for page in pdf.pages:\n",
        "                text += page.extract_text() + '\\n'\n",
        "        return text if text.strip() else None\n",
        "    except Exception as e:\n",
        "        print(f\"Error extracting PDF text: {e}\")\n",
        "        return None\n",
        "\n",
        "\n",
        "def detect_corrupted_text(text):\n",
        "    \"\"\"Detect if extracted text is corrupted based on Vietnamese character distribution.\"\"\"\n",
        "    if text is None or len(text.strip()) == 0:\n",
        "        return True\n",
        "    non_ascii_ratio = sum(1 for char in text if ord(char) > 127) / len(text)\n",
        "    if non_ascii_ratio < 0.1:\n",
        "        return True\n",
        "    vietnamese_chars = \"áàảãạâấầẩẫậăắằẳẵặéèẻẽẹêếềểễệíìỉĩịóòỏõọôốồổỗộơớờởỡợúùủũụưứừửữựýỳỷỹỵđ\"\n",
        "    vietnamese_char_ratio = sum(1 for char in text if char in vietnamese_chars) / max(len(text), 1)\n",
        "    return vietnamese_char_ratio < 0.05\n",
        "\n",
        "\n",
        "def extract_text_from_images(pdf_path):\n",
        "    \"\"\"Extract text from images in PDF using PaddleOCR & VietOCR.\"\"\"\n",
        "    doc = fitz.open(pdf_path)\n",
        "    extracted_text = \"\"\n",
        "    os.makedirs(\"pdf_pages\", exist_ok=True)\n",
        "    for page_num in range(len(doc)):\n",
        "        page = doc.load_page(page_num)\n",
        "        pix = page.get_pixmap()\n",
        "        image_path = f\"pdf_pages/page-{page_num + 1}.png\"\n",
        "        pix.save(image_path)\n",
        "        image = cv2.imread(image_path)\n",
        "        results = paddle_ocr.ocr(image_path, cls=True)\n",
        "        cropped_images = []\n",
        "        for line in results[0]:\n",
        "            if isinstance(line, list) and len(line) == 2:\n",
        "                box, text_info = line\n",
        "                if isinstance(box, list) and len(box) == 4 and isinstance(text_info, tuple) and len(text_info) == 2:\n",
        "                    x_min, y_min = min(pt[0] for pt in box), min(pt[1] for pt in box)\n",
        "                    x_max, y_max = max(pt[0] for pt in box), max(pt[1] for pt in box)\n",
        "                    if 0 <= x_min < x_max < image.shape[1] and 0 <= y_min < y_max < image.shape[0]:\n",
        "                        cropped = image[int(y_min):int(y_max), int(x_min):int(x_max)]\n",
        "                        cropped_images.append(Image.fromarray(cropped))\n",
        "        for img in cropped_images:\n",
        "            extracted_text += vietocr_detector.predict(img) + \"\\n\"\n",
        "    return extracted_text\n",
        "\n",
        "\n",
        "def process_document(file_path):\n",
        "    \"\"\"Main function to process document for text extraction.\"\"\"\n",
        "    ext = Path(file_path).suffix.lower()\n",
        "    extracted_text = None\n",
        "    if ext in ['.doc', '.docx']:\n",
        "        extracted_text = extract_text_from_docx(file_path)\n",
        "    elif ext == '.pdf':\n",
        "        extracted_text = extract_text_from_pdf(file_path)\n",
        "    else:\n",
        "        print(\"Unsupported file type!\")\n",
        "        return\n",
        "    attempts = 1\n",
        "    while detect_corrupted_text(extracted_text) and attempts > 0:\n",
        "        print(\"Detected corrupted text. Attempting re-encoding...\")\n",
        "        encoding = detect_encoding(file_path)\n",
        "        try:\n",
        "            with open(file_path, 'r', encoding=encoding, errors='replace') as f:\n",
        "                extracted_text = f.read()\n",
        "        except Exception as e:\n",
        "            print(f\"Encoding correction failed: {e}\")\n",
        "        attempts -= 1\n",
        "    if detect_corrupted_text(extracted_text):\n",
        "        print(\"Alert: Extracted text still appears corrupted. Applying OCR as fallback.\")\n",
        "        extracted_text = extract_text_from_images(file_path)\n",
        "    if extracted_text:\n",
        "        with open(\"final_extracted_text.txt\", \"w\", encoding=\"utf-8\") as file:\n",
        "            file.write(extracted_text)\n",
        "        print(\"OCR process completed! Extracted text saved to 'final_extracted_text.txt'\")\n",
        "    else:\n",
        "        print(\"Final alert: Text extraction failed.\")\n",
        "\n",
        "# Example usage\n",
        "file_path = \"/content/sample_data/TCU/HD1860 công tác xét tuyển đào tạo ĐH, CĐ năm 2024_20252211126.pdf\"  # Change this to your file path\n",
        "process_document(file_path)\n"
      ]
    }
  ]
}