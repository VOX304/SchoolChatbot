{
  "nbformat": 4,
  "nbformat_minor": 0,
  "metadata": {
    "colab": {
      "provenance": [],
      "include_colab_link": true
    },
    "language_info": {
      "name": "python"
    },
    "kernelspec": {
      "name": "python3",
      "display_name": "Python 3"
    }
  },
  "cells": [
    {
      "cell_type": "markdown",
      "metadata": {
        "id": "view-in-github",
        "colab_type": "text"
      },
      "source": [
        "<a href=\"https://colab.research.google.com/github/VOX304/BasicChatbot/blob/main/Preprocessing/ImgPrep/Gemini_Images_Prep.ipynb\" target=\"_parent\"><img src=\"https://colab.research.google.com/assets/colab-badge.svg\" alt=\"Open In Colab\"/></a>"
      ]
    },
    {
      "cell_type": "markdown",
      "metadata": {
        "id": "qs9ukCguR58s"
      },
      "source": [
        "# Dowload packages\n",
        "\n",
        "Please ensure you have imported a Gemini API key from AI Studio.\n",
        "You can do this directly in the Secrets tab on the left.\n",
        "\n",
        "After doing so, please run the setup cell below."
      ]
    },
    {
      "cell_type": "code",
      "metadata": {
        "colab": {
          "base_uri": "https://localhost:8080/"
        },
        "id": "jMK-sHBFR58v",
        "outputId": "a7fd089a-f861-408f-fe4d-4273d5d5d85b"
      },
      "source": [
        "!pip install -U -q \"google\"\n",
        "!pip install -U -q \"google.genai\"\n",
        "\n",
        "import os\n",
        "from google.colab import userdata\n",
        "from google.colab import drive\n",
        "os.environ[\"GEMINI_API_KEY\"] = userdata.get(\"GOOGLE_API_KEY\")\n",
        "\n",
        "\n",
        "# Please ensure that uploaded files are available in the AI Studio folder or change the working folder."
      ],
      "execution_count": null,
      "outputs": [
        {
          "output_type": "stream",
          "name": "stdout",
          "text": [
            "\u001b[2K   \u001b[90m━━━━━━━━━━━━━━━━━━━━━━━━━━━━━━━━━━━━━━━━\u001b[0m \u001b[32m45.3/45.3 kB\u001b[0m \u001b[31m2.2 MB/s\u001b[0m eta \u001b[36m0:00:00\u001b[0m\n",
            "\u001b[2K   \u001b[90m━━━━━━━━━━━━━━━━━━━━━━━━━━━━━━━━━━━━━━━━\u001b[0m \u001b[32m149.6/149.6 kB\u001b[0m \u001b[31m7.3 MB/s\u001b[0m eta \u001b[36m0:00:00\u001b[0m\n",
            "\u001b[?25h"
          ]
        }
      ]
    },
    {
      "cell_type": "code",
      "source": [
        "!pip install pillow"
      ],
      "metadata": {
        "colab": {
          "base_uri": "https://localhost:8080/"
        },
        "id": "t3HbAFmUcChW",
        "outputId": "91715dab-4e3e-4540-aa67-6affa83b4d65"
      },
      "execution_count": null,
      "outputs": [
        {
          "output_type": "stream",
          "name": "stdout",
          "text": [
            "Requirement already satisfied: pillow in /usr/local/lib/python3.11/dist-packages (11.1.0)\n"
          ]
        }
      ]
    },
    {
      "cell_type": "code",
      "source": [
        "!pip install -q google google.genai pillow faiss-cpu open_clip_torch\n"
      ],
      "metadata": {
        "colab": {
          "base_uri": "https://localhost:8080/"
        },
        "id": "9AmJ_YFmPITp",
        "outputId": "ed4afe22-d8c0-45ff-f1f5-647eaf5bf9f5"
      },
      "execution_count": null,
      "outputs": [
        {
          "output_type": "stream",
          "name": "stdout",
          "text": [
            "\u001b[2K   \u001b[90m━━━━━━━━━━━━━━━━━━━━━━━━━━━━━━━━━━━━━━━━\u001b[0m \u001b[32m30.7/30.7 MB\u001b[0m \u001b[31m36.4 MB/s\u001b[0m eta \u001b[36m0:00:00\u001b[0m\n",
            "\u001b[2K   \u001b[90m━━━━━━━━━━━━━━━━━━━━━━━━━━━━━━━━━━━━━━━━\u001b[0m \u001b[32m1.5/1.5 MB\u001b[0m \u001b[31m65.0 MB/s\u001b[0m eta \u001b[36m0:00:00\u001b[0m\n",
            "\u001b[2K   \u001b[90m━━━━━━━━━━━━━━━━━━━━━━━━━━━━━━━━━━━━━━━━\u001b[0m \u001b[32m363.4/363.4 MB\u001b[0m \u001b[31m4.4 MB/s\u001b[0m eta \u001b[36m0:00:00\u001b[0m\n",
            "\u001b[2K   \u001b[90m━━━━━━━━━━━━━━━━━━━━━━━━━━━━━━━━━━━━━━━━\u001b[0m \u001b[32m13.8/13.8 MB\u001b[0m \u001b[31m92.9 MB/s\u001b[0m eta \u001b[36m0:00:00\u001b[0m\n",
            "\u001b[2K   \u001b[90m━━━━━━━━━━━━━━━━━━━━━━━━━━━━━━━━━━━━━━━━\u001b[0m \u001b[32m24.6/24.6 MB\u001b[0m \u001b[31m73.0 MB/s\u001b[0m eta \u001b[36m0:00:00\u001b[0m\n",
            "\u001b[2K   \u001b[90m━━━━━━━━━━━━━━━━━━━━━━━━━━━━━━━━━━━━━━━━\u001b[0m \u001b[32m883.7/883.7 kB\u001b[0m \u001b[31m47.7 MB/s\u001b[0m eta \u001b[36m0:00:00\u001b[0m\n",
            "\u001b[2K   \u001b[90m━━━━━━━━━━━━━━━━━━━━━━━━━━━━━━━━━━━━━━━━\u001b[0m \u001b[32m664.8/664.8 MB\u001b[0m \u001b[31m3.0 MB/s\u001b[0m eta \u001b[36m0:00:00\u001b[0m\n",
            "\u001b[2K   \u001b[90m━━━━━━━━━━━━━━━━━━━━━━━━━━━━━━━━━━━━━━━━\u001b[0m \u001b[32m211.5/211.5 MB\u001b[0m \u001b[31m6.0 MB/s\u001b[0m eta \u001b[36m0:00:00\u001b[0m\n",
            "\u001b[2K   \u001b[90m━━━━━━━━━━━━━━━━━━━━━━━━━━━━━━━━━━━━━━━━\u001b[0m \u001b[32m56.3/56.3 MB\u001b[0m \u001b[31m12.2 MB/s\u001b[0m eta \u001b[36m0:00:00\u001b[0m\n",
            "\u001b[2K   \u001b[90m━━━━━━━━━━━━━━━━━━━━━━━━━━━━━━━━━━━━━━━━\u001b[0m \u001b[32m127.9/127.9 MB\u001b[0m \u001b[31m7.0 MB/s\u001b[0m eta \u001b[36m0:00:00\u001b[0m\n",
            "\u001b[2K   \u001b[90m━━━━━━━━━━━━━━━━━━━━━━━━━━━━━━━━━━━━━━━━\u001b[0m \u001b[32m207.5/207.5 MB\u001b[0m \u001b[31m6.1 MB/s\u001b[0m eta \u001b[36m0:00:00\u001b[0m\n",
            "\u001b[2K   \u001b[90m━━━━━━━━━━━━━━━━━━━━━━━━━━━━━━━━━━━━━━━━\u001b[0m \u001b[32m21.1/21.1 MB\u001b[0m \u001b[31m80.3 MB/s\u001b[0m eta \u001b[36m0:00:00\u001b[0m\n",
            "\u001b[2K   \u001b[90m━━━━━━━━━━━━━━━━━━━━━━━━━━━━━━━━━━━━━━━━\u001b[0m \u001b[32m44.8/44.8 kB\u001b[0m \u001b[31m2.6 MB/s\u001b[0m eta \u001b[36m0:00:00\u001b[0m\n",
            "\u001b[?25h"
          ]
        }
      ]
    },
    {
      "cell_type": "code",
      "source": [
        "!pip install openai-clip"
      ],
      "metadata": {
        "colab": {
          "base_uri": "https://localhost:8080/"
        },
        "id": "8aDZ8Or2XX0X",
        "outputId": "e4d8d52e-80d5-48c2-b3a5-afdec7dabbbc"
      },
      "execution_count": null,
      "outputs": [
        {
          "output_type": "stream",
          "name": "stdout",
          "text": [
            "Collecting openai-clip\n",
            "  Downloading openai-clip-1.0.1.tar.gz (1.4 MB)\n",
            "\u001b[?25l     \u001b[90m━━━━━━━━━━━━━━━━━━━━━━━━━━━━━━━━━━━━━━━━\u001b[0m \u001b[32m0.0/1.4 MB\u001b[0m \u001b[31m?\u001b[0m eta \u001b[36m-:--:--\u001b[0m\r\u001b[2K     \u001b[90m━━━━━━━━━━━━━━━━━━━━━━━━━━━━━━━━━━━━━━━━\u001b[0m \u001b[32m1.4/1.4 MB\u001b[0m \u001b[31m45.3 MB/s\u001b[0m eta \u001b[36m0:00:00\u001b[0m\n",
            "\u001b[?25h  Preparing metadata (setup.py) ... \u001b[?25l\u001b[?25hdone\n",
            "Requirement already satisfied: ftfy in /usr/local/lib/python3.11/dist-packages (from openai-clip) (6.3.1)\n",
            "Requirement already satisfied: regex in /usr/local/lib/python3.11/dist-packages (from openai-clip) (2024.11.6)\n",
            "Requirement already satisfied: tqdm in /usr/local/lib/python3.11/dist-packages (from openai-clip) (4.67.1)\n",
            "Requirement already satisfied: wcwidth in /usr/local/lib/python3.11/dist-packages (from ftfy->openai-clip) (0.2.13)\n",
            "Building wheels for collected packages: openai-clip\n",
            "  Building wheel for openai-clip (setup.py) ... \u001b[?25l\u001b[?25hdone\n",
            "  Created wheel for openai-clip: filename=openai_clip-1.0.1-py3-none-any.whl size=1368605 sha256=3c560e2a2d6a69eec35b1d73466da15f70b195f5eaa5fcd82140d9aa36a73233\n",
            "  Stored in directory: /root/.cache/pip/wheels/0d/17/90/042948fd2e2a87f1dcf6db6d438cad015c49db0c53d1d9c7dc\n",
            "Successfully built openai-clip\n",
            "Installing collected packages: openai-clip\n",
            "Successfully installed openai-clip-1.0.1\n"
          ]
        }
      ]
    },
    {
      "cell_type": "markdown",
      "source": [
        "# Image Prep"
      ],
      "metadata": {
        "id": "F0YVtYrlPnzw"
      }
    },
    {
      "cell_type": "code",
      "source": [
        "from PIL import Image\n",
        "import io\n",
        "import base64\n",
        "import os\n",
        "from google import genai\n",
        "from google.genai import types\n",
        "\n",
        "def image_to_base64(image_path):\n",
        "    \"\"\"Convert an image file to a base64-encoded string.\"\"\"\n",
        "    with Image.open(image_path) as image:\n",
        "        buffered = io.BytesIO()\n",
        "        image.save(buffered, format=image.format)\n",
        "        img_str = base64.b64encode(buffered.getvalue()).decode('utf-8')\n",
        "    return img_str\n",
        "\n",
        "def extract_image_content(image_path):\n",
        "    \"\"\"Extract image content description using Gemini.\"\"\"\n",
        "    client = genai.Client(\n",
        "        api_key=os.environ.get(\"GEMINI_API_KEY\"),\n",
        "    )\n",
        "    image_str = image_to_base64(image_path)\n",
        "    contents = [{\n",
        "        \"role\": \"user\",\n",
        "        \"parts\": [\n",
        "            {\"text\": \"Vui lòng tóm tắt nội dung hình ảnh này.Thường sẽ liên quan đến Quân Đội\"},\n",
        "            {\"inline_data\": {\"mime_type\": \"image/jpeg\", \"data\": image_str}}\n",
        "        ],\n",
        "    }]\n",
        "\n",
        "    response = client.models.generate_content(\n",
        "        model=\"gemini-2.0-pro-exp-02-05\",\n",
        "        contents=contents\n",
        "    )\n",
        "\n",
        "    return response.text.strip()\n",
        "\n",
        "def convert_images_in_folder(folder_path):\n",
        "    \"\"\"Convert all images in a folder to base64 strings and extract their content.\"\"\"\n",
        "    image_data = {}\n",
        "\n",
        "    for filename in os.listdir(folder_path):\n",
        "        file_path = os.path.join(folder_path, filename)\n",
        "\n",
        "        if os.path.isfile(file_path) and filename.lower().endswith(('png', 'jpg', 'jpeg', 'bmp', 'gif')):\n",
        "            image_content = extract_image_content(file_path)\n",
        "            image_data[filename] = image_content\n",
        "\n",
        "    return image_data\n",
        "\n",
        "# Specify the folder containing images\n",
        "folder_path = \"/content/sample_data/TCU\"\n",
        "image_content_dict = convert_images_in_folder(folder_path)\n",
        "\n",
        "# Example: Print extracted content for one image\n",
        "for img_name, img_content in image_content_dict.items():\n",
        "    print(f\"{img_name}: {img_content}\")\n"
      ],
      "metadata": {
        "id": "cKsx5NFlS30U",
        "colab": {
          "base_uri": "https://localhost:8080/"
        },
        "outputId": "3c56af9f-9254-4edf-cd51-0889f31abecb"
      },
      "execution_count": null,
      "outputs": [
        {
          "output_type": "stream",
          "name": "stderr",
          "text": [
            "\n",
            "KeyboardInterrupt\n",
            "\n"
          ]
        }
      ]
    },
    {
      "cell_type": "code",
      "source": [
        "for img_name, img_content in image_content_dict.items():\n",
        "    print(f\"{img_name}: {img_content}\")"
      ],
      "metadata": {
        "colab": {
          "base_uri": "https://localhost:8080/"
        },
        "id": "vmzuT_nCTv84",
        "outputId": "1b3b9442-f842-41ce-c926-41c4555706ed"
      },
      "execution_count": null,
      "outputs": [
        {
          "output_type": "stream",
          "name": "stdout",
          "text": [
            "Picture5.jpg: Okay, đây là tóm tắt nội dung hình ảnh:\n",
            "\n",
            "Hình ảnh là ảnh chụp màn hình của một kênh YouTube có tên **\"Tự hào Sĩ quan Thông tin\"**.\n",
            "\n",
            "*   **Đây là kênh YouTube chính thức của Trường Sĩ quan Thông tin**, thuộc Binh chủng Thông tin liên lạc - Bộ Quốc phòng.\n",
            "*   Kênh có **9,06 nghìn người đăng ký** và đã đăng tải **719 video**.\n",
            "*   Mục đích của kênh là **cập nhật các clip, tin tức** liên quan đến nhà trường, hoạt động của sĩ quan thông tin và có thể là các tin tức thời sự, chính trị liên quan đến quân đội.\n",
            "\n",
            "Như bạn đã đề cập, nội dung rõ ràng liên quan đến **Quân đội Nhân dân Việt Nam**, cụ thể là **Trường Sĩ quan Thông tin** và **Binh chủng Thông tin liên lạc**.\n",
            "Picture3.jpg: Chào bạn, đây là tóm tắt nội dung hình ảnh:\n",
            "\n",
            "Hình ảnh này là một ảnh chụp màn hình giao diện Facebook, cho thấy:\n",
            "\n",
            "1.  **Banner ở trên:** Là một áp phích tuyên truyền kỷ niệm 95 năm ngày thành lập Đảng Cộng sản Việt Nam (3/2/1930 - 3/2/2025). Banner có hình ảnh Chủ tịch Hồ Chí Minh, biểu tượng búa liềm và dòng chữ \"ĐẢNG CỘNG SẢN VIỆT NAM - NGƯỜI LÃNH ĐẠO, TỔ CHỨC MỌI THẮNG LỢI CỦA CÁCH MẠNG VIỆT NAM\".\n",
            "2.  **Nhóm Facebook ở dưới:** Tên nhóm là \"**Chúng Tôi Là Chiến Sĩ**\". Đây là một nhóm công khai với 5,3 nghìn thành viên. Người chụp màn hình này đã tham gia nhóm (có nút \"# Đã tham gia\").\n",
            "\n",
            "**Liên quan đến Quân đội:**\n",
            "Tên của nhóm Facebook \"**Chúng Tôi Là Chiến Sĩ**\" trực tiếp gợi liên tưởng mạnh mẽ đến **quân đội, người lính, lực lượng vũ trang**. Nội dung của nhóm này có thể xoay quanh cuộc sống quân ngũ, lịch sử quân đội, các vấn đề liên quan đến quân nhân, hoặc tinh thần yêu nước, tự hào dân tộc gắn liền với hình ảnh người lính. Banner kỷ niệm Đảng cũng có mối liên hệ chặt chẽ, vì Đảng Cộng sản Việt Nam là lực lượng lãnh đạo Quân đội Nhân dân Việt Nam.\n",
            "\n",
            "**Tóm lại:** Hình ảnh cho thấy một người dùng Facebook đang xem hoặc là thành viên của một nhóm tên là \"Chúng Tôi Là Chiến Sĩ\", một nhóm có chủ đề rõ ràng liên quan đến quân đội, đặt trong bối cảnh có banner kỷ niệm ngày thành lập Đảng Cộng sản Việt Nam.\n",
            "Picture1.jpg: Chào bạn, hình ảnh bạn cung cấp là ảnh chụp màn hình (screenshot) của một trang Facebook có tên **\"Tự hào Sĩ quan Thông tin\"**.\n",
            "\n",
            "**Tóm tắt nội dung:**\n",
            "\n",
            "1.  **Đối tượng:** Đây là trang Facebook dành cho hoặc về các Sĩ quan Thông tin liên lạc thuộc Quân đội Nhân dân Việt Nam.\n",
            "2.  **Hình ảnh:**\n",
            "    *   **Ảnh bìa:** Chụp cổng một đơn vị/doanh trại quân đội, có biển hiệu liên quan đến Quân đội Nhân dân Việt Nam.\n",
            "    *   **Ảnh đại diện:** Hình hai quân nhân (có thể là sĩ quan thông tin) trong quân phục, kèm dòng chữ \"Tự hào Sĩ quan Thông tin\".\n",
            "3.  **Mức độ phổ biến:** Trang này có vẻ khá phổ biến với 17K lượt thích và 18K người theo dõi tại thời điểm chụp màn hình.\n",
            "4.  **Mục đích:** Trang này dường như là nơi để thể hiện niềm tự hào, chia sẻ thông tin, hình ảnh và kết nối cộng đồng những người là Sĩ quan Thông tin hoặc quan tâm đến lĩnh vực này trong quân đội.\n",
            "\n",
            "**Kết luận:** Hình ảnh cho thấy một trang cộng đồng trên Facebook tập trung vào **Sĩ quan Thông tin liên lạc của Quân đội Nhân dân Việt Nam**, thể hiện niềm tự hào về ngành và có lượng người theo dõi đáng kể.\n",
            "Picture2.jpg: Chào bạn, đây là tóm tắt nội dung hình ảnh:\n",
            "\n",
            "Đây là ảnh chụp màn hình của một trang mạng xã hội (có vẻ là Facebook) có tên **\"Sĩ quan Thông tin - Channel\"**.\n",
            "\n",
            "*   **Nội dung chính:** Trang này là fanpage dành cho **Trường Sĩ quan Thông tin** và **bộ đội thông tin liên lạc** thuộc Quân đội Nhân dân Việt Nam.\n",
            "*   **Logo:** Logo nổi bật có hình tia sét màu đỏ trên nền trắng và vòng tròn đỏ bao ngoài, phía trên có chữ \"TRƯỜNG SĨ QUAN THÔNG TIN\". Biểu tượng tia sét thường tượng trưng cho ngành thông tin, điện tử, liên lạc.\n",
            "*   **Mức độ phổ biến:** Trang có **13K lượt thích** và **16K người theo dõi**, cho thấy mức độ quan tâm khá lớn.\n",
            "*   **Hình ảnh nền (Banner):** Cho thấy một phần cơ sở vật chất (tòa nhà, cổng chào) của trường hoặc đơn vị quân đội liên quan.\n",
            "\n",
            "**Kết luận:** Hình ảnh này giới thiệu một trang mạng xã hội đại diện hoặc liên quan đến Trường Sĩ quan Thông tin của Quân đội Nhân dân Việt Nam, dùng để chia sẻ thông tin và kết nối cộng đồng liên quan đến lĩnh vực này.\n",
            "Picture6.jpg: Chào bạn, đây là tóm tắt nội dung hình ảnh:\n",
            "\n",
            "Hình ảnh này là ảnh chụp màn hình của một hồ sơ (profile) trên nền tảng mạng xã hội TikTok.\n",
            "\n",
            "1.  **Tên tài khoản:** \"Tự hào Sĩ quan Thông tin\"\n",
            "2.  **Tên người dùng (username):** @truongsiquanthongtin\n",
            "3.  **Nội dung liên quan:** Tên tài khoản và tên người dùng gợi ý mạnh mẽ rằng nội dung của kênh này liên quan đến **Trường Sĩ quan Thông tin** thuộc Quân đội Nhân dân Việt Nam, hoặc thể hiện niềm tự hào về ngành Sĩ quan Thông tin.\n",
            "4.  **Thống kê (tại thời điểm chụp):**\n",
            "    *   Đang theo dõi (Following): 37 tài khoản\n",
            "    *   Người theo dõi (Followers): 3.330\n",
            "    *   Tổng lượt thích (Likes): 87.1 nghìn\n",
            "5.  **Khác:** Có nút \"Mở ứng dụng\", cho thấy ảnh chụp màn hình này có thể được xem từ trình duyệt web hoặc một liên kết bên ngoài ứng dụng TikTok.\n",
            "\n",
            "Tóm lại, đây là trang TikTok của một cá nhân hoặc tổ chức thể hiện sự tự hào hoặc liên quan đến Trường Sĩ quan Thông tin, có lượng người theo dõi và lượt thích khá tốt.\n",
            "Picture4.jpg: Okay, đây là tóm tắt nội dung hình ảnh:\n",
            "\n",
            "Hình ảnh này là một ảnh chụp màn hình từ ứng dụng Facebook, hiển thị thông tin về **Trường Sĩ Quan Thông Tin Liên Lạc**.\n",
            "\n",
            "1.  **Ảnh chính:** Là hình chụp tòa nhà của Trường Sĩ Quan Thông Tin Liên Lạc. Trên tòa nhà có biển hiệu lớn ghi tên trường và dòng chữ \"QUÂN ĐỘI NHÂN DÂN VIỆT NAM\" cùng biểu tượng ngôi sao, khẳng định đây là một cơ sở đào tạo thuộc Quân đội Nhân dân Việt Nam.\n",
            "2.  **Giao diện Facebook:** Bên dưới ảnh là giao diện của một **Nhóm Facebook riêng tư** có tên \"Trường Sĩ Quan Thông Tin\" với 13.000 thành viên. Giao diện này cho thấy các tùy chọn như đăng video, công bố, tạo sự kiện và mời thành viên.\n",
            "\n",
            "**Tóm lại:** Hình ảnh cho thấy Trường Sĩ Quan Thông Tin Liên Lạc (một trường quân đội) và một nhóm Facebook riêng tư liên quan đến trường này.\n",
            "Trung_tướng_Nguyễn_Chí_Vịnh.jpg: Okay, đây là tóm tắt nội dung hình ảnh:\n",
            "\n",
            "Bức ảnh chụp hai người đàn ông mặc quân phục đang đứng cạnh nhau, nắm tay và mỉm cười nhìn vào máy ảnh.\n",
            "\n",
            "1.  **Người bên trái:** Mặc quân phục màu xanh lá cây đặc trưng của **Quân đội Nhân dân Việt Nam**. Ông đeo quân hàm cấp tướng trên ve áo và cầu vai. Dựa vào nhận diện, người này rất giống **Đại tướng Phùng Quang Thanh**, nguyên Bộ trưởng Bộ Quốc phòng Việt Nam.\n",
            "2.  **Người bên phải:** Mặc quân phục màu trắng, cũng đeo quân hàm cấp tướng. Quân phục trắng này thường được sử dụng bởi **Công an Nhân dân Việt Nam** trong các dịp lễ hoặc bởi sĩ quan cấp cao. Người này rất giống **Đại tướng Lê Hồng Anh**, nguyên Bộ trưởng Bộ Công an Việt Nam.\n",
            "3.  **Bối cảnh:** Họ đang đứng trong một căn phòng có vẻ là phòng làm việc hoặc phòng khách chính thức, với bức chân dung Chủ tịch Hồ Chí Minh treo trên tường phía sau.\n",
            "4.  **Hành động:** Việc hai vị tướng đứng cạnh nhau, nắm tay và mỉm cười thể hiện mối quan hệ thân thiết, sự đoàn kết, hợp tác giữa hai lực lượng vũ trang quan trọng của Việt Nam là Quân đội và Công an vào thời điểm bức ảnh được chụp.\n",
            "\n",
            "**Tóm lại:** Đây là hình ảnh ghi lại khoảnh khắc gặp gỡ thân mật giữa hai nhà lãnh đạo cấp cao của Bộ Quốc phòng (Quân đội) và Bộ Công an Việt Nam, khả năng cao là Đại tướng Phùng Quang Thanh và Đại tướng Lê Hồng Anh.\n"
          ]
        }
      ]
    },
    {
      "cell_type": "code",
      "source": [
        "import json\n",
        "\n",
        "# Convert dictionary into a list of dictionaries\n",
        "image_metadata = [\n",
        "    { \"document\": \"Địa chỉ trang mạng_2025313935.docx\", \"file_name\": img_name, \"description\": img_content}\n",
        "    for img_name, img_content in image_content_dict.items()\n",
        "]\n",
        "\n",
        "# Save to JSON file\n",
        "json_file_path = \"image_metadata.json\"\n",
        "with open(json_file_path, \"w\", encoding=\"utf-8\") as f:\n",
        "    json.dump(image_metadata, f, ensure_ascii=False, indent=4)\n",
        "\n",
        "print(f\"✅ Image metadata saved to {json_file_path}\")\n"
      ],
      "metadata": {
        "colab": {
          "base_uri": "https://localhost:8080/"
        },
        "id": "Xl8eBWNWUQOA",
        "outputId": "7b18cf22-4e47-47c6-b3f7-c7326b6b075a"
      },
      "execution_count": null,
      "outputs": [
        {
          "output_type": "stream",
          "name": "stdout",
          "text": [
            "✅ Image metadata saved to image_metadata.json\n"
          ]
        }
      ]
    },
    {
      "cell_type": "markdown",
      "source": [
        "# Embedding"
      ],
      "metadata": {
        "id": "8msFQszZW5a0"
      }
    },
    {
      "cell_type": "code",
      "source": [
        "import json\n",
        "import os\n",
        "import base64\n",
        "import numpy as np\n",
        "import torch\n",
        "import clip\n",
        "from PIL import Image\n",
        "from google import genai\n",
        "from google.genai import types\n",
        "import faiss\n",
        "\n",
        "# Load CLIP model for image embeddings\n",
        "device = \"cuda\" if torch.cuda.is_available() else \"cpu\"\n",
        "model, preprocess = clip.load(\"ViT-B/32\", device=device)"
      ],
      "metadata": {
        "colab": {
          "base_uri": "https://localhost:8080/"
        },
        "id": "H6mKL0deXJyz",
        "outputId": "689514db-d1cf-40d8-cf9e-5743aabc2eba"
      },
      "execution_count": null,
      "outputs": [
        {
          "output_type": "stream",
          "name": "stderr",
          "text": [
            "100%|███████████████████████████████████████| 338M/338M [00:04<00:00, 74.0MiB/s]\n"
          ]
        }
      ]
    },
    {
      "cell_type": "code",
      "source": [
        "\n",
        "\n",
        "# Function to extract image content using Gemini\n",
        "def get_image_description(image_path):\n",
        "    \"\"\"Use Gemini to extract textual content from an image\"\"\"\n",
        "    with open(image_path, \"rb\") as img_file:\n",
        "        image_bytes = img_file.read()\n",
        "        image_base64 = base64.b64encode(image_bytes).decode(\"utf-8\")\n",
        "\n",
        "    client = genai.Client(api_key=os.getenv(\"GEMINI_API_KEY\"))\n",
        "    model_name = \"gemini-2.0-flash-thinking-exp-01-21\"\n",
        "\n",
        "    contents = [\n",
        "        {\"role\": \"user\", \"parts\": [\n",
        "            {\"text\": \"Vui lòng tóm tắt nội dung hình ảnh này.Thường sẽ liên quan đến Quân Đội\"},\n",
        "            {\"inline_data\": {\"mime_type\": \"image/jpeg\", \"data\": image_base64}}\n",
        "        ]}\n",
        "    ]\n",
        "\n",
        "    response = client.models.generate_content(model=model_name, contents=contents)\n",
        "    return response.text if response else \"No description available.\"\n",
        "\n",
        "# Function to generate image embeddings using CLIP\n",
        "def get_image_embedding(image_path):\n",
        "    \"\"\"Generate image embeddings using CLIP\"\"\"\n",
        "    image = preprocess(Image.open(image_path)).unsqueeze(0).to(device)\n",
        "    with torch.no_grad():\n",
        "        embedding = model.encode_image(image)\n",
        "    return embedding.cpu().numpy().flatten()\n",
        "\n",
        "# Function to embed text descriptions using CLIP\n",
        "def get_text_embedding(text):\n",
        "    \"\"\"Convert a text description into a CLIP embedding\"\"\"\n",
        "    text_tokens = clip.tokenize([text]).to(device)\n",
        "    with torch.no_grad():\n",
        "        embedding = model.encode_text(text_tokens)\n",
        "    return embedding.cpu().numpy().flatten()\n",
        "\n",
        "# Process images and store text embeddings\n",
        "def process_images(image_folder, json_output):\n",
        "    image_metadata = []\n",
        "\n",
        "    for img_name in os.listdir(image_folder):\n",
        "        if not img_name.lower().endswith((\".jpg\", \".png\", \".jpeg\")):\n",
        "            continue  # Skip non-image files\n",
        "\n",
        "        img_path = os.path.join(image_folder, img_name)\n",
        "        description = get_image_description(img_path)\n",
        "\n",
        "        image_metadata.append({\n",
        "            \"document_name\": \"Địa chỉ trang mạng_2025313935.docx\",\n",
        "            \"datatype\": \"img\",\n",
        "            \"img_path\": img_path,\n",
        "            \"extracted_content\": description,\n",
        "        })\n",
        "\n",
        "    # Save metadata and embeddings to JSON\n",
        "    with open(json_output, \"w\", encoding=\"utf-8\") as f:\n",
        "        json.dump(image_metadata, f, ensure_ascii=False, indent=4)\n",
        "\n",
        "    return image_metadata\n",
        "\n",
        "# Example usage\n",
        "image_folder = \"/content/sample_data/TCU\"\n",
        "json_output = \"image_metadata.json\"\n",
        "image_data = process_images(image_folder, json_output)\n",
        "print(\"✅ Image descriptions & embeddings saved.\")\n"
      ],
      "metadata": {
        "colab": {
          "base_uri": "https://localhost:8080/"
        },
        "id": "tyI6RpM3W45k",
        "outputId": "5228942a-c9a7-437f-a7b0-d4c10c7583aa"
      },
      "execution_count": null,
      "outputs": [
        {
          "output_type": "stream",
          "name": "stdout",
          "text": [
            "✅ Image descriptions & embeddings saved.\n"
          ]
        }
      ]
    }
  ]
}